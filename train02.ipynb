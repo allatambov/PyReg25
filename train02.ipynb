{
 "cells": [
  {
   "cell_type": "markdown",
   "metadata": {},
   "source": [
    "# Введение в регрессионный анализ: интенсив по Python\n",
    "\n",
    "## Задачи для тренировки по итогам недели №2"
   ]
  },
  {
   "cell_type": "code",
   "execution_count": null,
   "metadata": {},
   "outputs": [],
   "source": [
    "### YOUR IMPORTS HERE ###"
   ]
  },
  {
   "cell_type": "markdown",
   "metadata": {},
   "source": [
    "Загрузите данные из файла `Stars.csv` (скачать [здесь](https://github.com/allatambov/PyReg25/blob/main/Stars.csv)) и выполните следующие задания.\n",
    "\n",
    "Показатели в файле:\n",
    "\n",
    "* `Temperature`: температура звезды по Кельвину;\n",
    "* `Luminosity`: светимость звезды в единицах светимости Солнца;\n",
    "* `Radius`: радиус звезды по отношению к Солнцу;\n",
    "* `Absolute magnitude`: абсолютная звездная величина;\n",
    "* `Star type`: тип звезды (0 — коричневый карлик, 1 — красный карлик, 2 — белый карлик, 3 —\n",
    "звезда главной последовательности, 4 — супергигант, 5 — гипергигант); \n",
    "* `Star color`: цвет звезды;\n",
    "* `Spectral Class`: спектральный класс звезды.\n",
    "\n",
    "Если в датафрейме есть строки с пропущенными значениями, удалять их не нужно."
   ]
  },
  {
   "cell_type": "code",
   "execution_count": null,
   "metadata": {},
   "outputs": [],
   "source": [
    "### LOAD DATA HERE ###"
   ]
  },
  {
   "cell_type": "markdown",
   "metadata": {},
   "source": [
    "### Задача 0\n",
    "\n",
    "Выведите информацию о типах столбцов в датафрейме. Выведите описательные статистики для всех числовых столбцов в датафрейме."
   ]
  },
  {
   "cell_type": "code",
   "execution_count": null,
   "metadata": {},
   "outputs": [],
   "source": [
    "### YOUR CODE HERE ###"
   ]
  },
  {
   "cell_type": "markdown",
   "metadata": {},
   "source": [
    "### Задача 1\n",
    "\n",
    "Добавьте в датафрейм столбец `White Dwarf`, который содержит значения 0 и 1, считая, что 1 ставится в случае, если звезда является белым карликом."
   ]
  },
  {
   "cell_type": "code",
   "execution_count": null,
   "metadata": {},
   "outputs": [],
   "source": [
    "### YOUR CODE HERE ###"
   ]
  },
  {
   "cell_type": "markdown",
   "metadata": {},
   "source": [
    "### Задача 2\n",
    "\n",
    "Сохраните строки, соответствующие звездам с абсолютной звездной величиной (`Absolute magnitude`) меньше 0, в датафрейм `low`."
   ]
  },
  {
   "cell_type": "code",
   "execution_count": null,
   "metadata": {},
   "outputs": [],
   "source": [
    "### YOUR CODE HERE ###"
   ]
  },
  {
   "cell_type": "markdown",
   "metadata": {},
   "source": [
    "### Задача 3\n",
    "\n",
    "Сохраните строки, соответствующие звездам спектрального класса `O` или `M` , в датафрейм `stars_om`."
   ]
  },
  {
   "cell_type": "code",
   "execution_count": null,
   "metadata": {},
   "outputs": [],
   "source": [
    "### YOUR CODE HERE ###"
   ]
  },
  {
   "cell_type": "markdown",
   "metadata": {},
   "source": [
    "### Задача 4\n",
    "\n",
    "Сохраните строки, соответствующие звездам-гигантам и звездам-супергигантам, в датафрейм `giants`. "
   ]
  },
  {
   "cell_type": "code",
   "execution_count": null,
   "metadata": {},
   "outputs": [],
   "source": [
    "### YOUR CODE HERE ###"
   ]
  },
  {
   "cell_type": "markdown",
   "metadata": {},
   "source": [
    "### Задача 5\n",
    "\n",
    "Выведите таблицу частот для столбца `Star color`. "
   ]
  },
  {
   "cell_type": "code",
   "execution_count": null,
   "metadata": {},
   "outputs": [],
   "source": [
    "### YOUR CODE HERE ###"
   ]
  },
  {
   "cell_type": "markdown",
   "metadata": {},
   "source": [
    "### Задача 6\n",
    "\n",
    "Сохраните строки, соответствующие звездам главной последовательности синего (`Blue`) или сине-белого цвета (`Blue-white` или `Blue-White`), в датафрейм `main_blue`. \n",
    "\n",
    "Вычислите количество строк в полученном датафрейме. Выведите описательные статистики для столбца `Spectral Class`. Звезд какого спектрального класса больше всего среди отобранных наблюдений?"
   ]
  },
  {
   "cell_type": "code",
   "execution_count": null,
   "metadata": {},
   "outputs": [],
   "source": [
    "### YOUR CODE HERE ###"
   ]
  },
  {
   "cell_type": "markdown",
   "metadata": {},
   "source": [
    "### Задача 7\n",
    "\n",
    "a. Вычислите среднюю и медианную светимость звезд, используя датафрейм `stars`. \n",
    "\n",
    "b. Вычислите границы типичных значений светимости звезды. \n",
    "\n",
    "c. Выберите строки, соответствующие звездам с *типичными значениями*  светимости, сохраните их в датафрейм `stars2`. Вычислите среднюю и медианную светимость звезд в `stars2`."
   ]
  },
  {
   "cell_type": "code",
   "execution_count": null,
   "metadata": {},
   "outputs": [],
   "source": [
    "### YOUR CODE HERE ###"
   ]
  }
 ],
 "metadata": {
  "kernelspec": {
   "display_name": "Python 3",
   "language": "python",
   "name": "python3"
  },
  "language_info": {
   "codemirror_mode": {
    "name": "ipython",
    "version": 3
   },
   "file_extension": ".py",
   "mimetype": "text/x-python",
   "name": "python",
   "nbconvert_exporter": "python",
   "pygments_lexer": "ipython3",
   "version": "3.7.4"
  }
 },
 "nbformat": 4,
 "nbformat_minor": 2
}
