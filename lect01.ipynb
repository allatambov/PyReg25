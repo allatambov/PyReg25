{
 "cells": [
  {
   "cell_type": "markdown",
   "metadata": {},
   "source": [
    "# Введение в регрессионный анализ: интенсив по Python\n",
    "\n",
    "*Алла Тамбовцева*\n",
    "\n",
    "## К лекции 1: примеры списков и массивов"
   ]
  },
  {
   "cell_type": "markdown",
   "metadata": {},
   "source": [
    "Создадим список `height` со значениями роста в сантиметрах:"
   ]
  },
  {
   "cell_type": "code",
   "execution_count": 1,
   "metadata": {},
   "outputs": [],
   "source": [
    "height = [168, 195, 170, 183]"
   ]
  },
  {
   "cell_type": "markdown",
   "metadata": {},
   "source": [
    "Убедимся, что перевести все значения роста в метры, просто поделив список на 100 не получится:"
   ]
  },
  {
   "cell_type": "code",
   "execution_count": 2,
   "metadata": {},
   "outputs": [
    {
     "ename": "TypeError",
     "evalue": "unsupported operand type(s) for /: 'list' and 'int'",
     "output_type": "error",
     "traceback": [
      "\u001b[0;31m---------------------------------------------------------------------------\u001b[0m",
      "\u001b[0;31mTypeError\u001b[0m                                 Traceback (most recent call last)",
      "\u001b[0;32m<ipython-input-2-814a30eb06a1>\u001b[0m in \u001b[0;36m<module>\u001b[0;34m\u001b[0m\n\u001b[0;32m----> 1\u001b[0;31m \u001b[0mheight\u001b[0m \u001b[0;34m/\u001b[0m \u001b[0;36m100\u001b[0m \u001b[0;31m# ошибка типа\u001b[0m\u001b[0;34m\u001b[0m\u001b[0;34m\u001b[0m\u001b[0m\n\u001b[0m",
      "\u001b[0;31mTypeError\u001b[0m: unsupported operand type(s) for /: 'list' and 'int'"
     ]
    }
   ],
   "source": [
    "height / 100 # ошибка из-за типа list"
   ]
  },
  {
   "cell_type": "markdown",
   "metadata": {},
   "source": [
    "Для преодоления этого ограничения перейдем к массивам, которые создаются с помощью библиотеки `numpy`. Чтобы пользоваться возможностями этой библиотеки, ее нужно: а) установить; б) импортировать. Первый пункт для нас не актуален, эта библиотека установилась вместе с Anaconda автоматически. А второй мы выполним – воспользуемся конструкцией `import ...`, где на месте `...` впишем название библиотеки:"
   ]
  },
  {
   "cell_type": "code",
   "execution_count": 3,
   "metadata": {},
   "outputs": [],
   "source": [
    "import numpy"
   ]
  },
  {
   "cell_type": "markdown",
   "metadata": {},
   "source": [
    "Теперь, в течение работы в этом файле с кодом, мы можем использовать инструменты из `numpy`. Однако, чтобы Python понимал, что мы используем функции оттуда, нам придется каждый раз указывать название библиотеки:\n",
    "\n",
    "* функция для создания массива: `numpy.array()`;\n",
    "* функция для вычисления среднего: `numpy.mean()`.\n",
    "\n",
    "Это довольно длинно. Поэтому, чтобы не «таскать» название `numpy` всякий раз при вызове полезных функций, библиотеку импортируют с сокращенным названием `np` с помощью конструкции `import ... as ...`:"
   ]
  },
  {
   "cell_type": "code",
   "execution_count": 4,
   "metadata": {},
   "outputs": [],
   "source": [
    "import numpy as np"
   ]
  },
  {
   "cell_type": "markdown",
   "metadata": {},
   "source": [
    "Создадим массив – структуру типа `numpy array`. Для этого в функцию `np.array()` поместим перечень элементов в квадратных скобках (по сути, мы просто превращаем менее удобный список в более удобный массив):"
   ]
  },
  {
   "cell_type": "code",
   "execution_count": 5,
   "metadata": {},
   "outputs": [],
   "source": [
    "rost = np.array([168, 195, 170, 183])"
   ]
  },
  {
   "cell_type": "markdown",
   "metadata": {},
   "source": [
    "Объект `rost` – массив. А значит, мы с ним можем выполнять операции поэлементно. Разделим все элементы на 100:"
   ]
  },
  {
   "cell_type": "code",
   "execution_count": 6,
   "metadata": {},
   "outputs": [
    {
     "data": {
      "text/plain": [
       "array([1.68, 1.95, 1.7 , 1.83])"
      ]
     },
     "execution_count": 6,
     "metadata": {},
     "output_type": "execute_result"
    }
   ],
   "source": [
    "rost / 100"
   ]
  },
  {
   "cell_type": "markdown",
   "metadata": {},
   "source": [
    "Проверим, какие значения в `rost` больше 180:"
   ]
  },
  {
   "cell_type": "code",
   "execution_count": 7,
   "metadata": {},
   "outputs": [
    {
     "data": {
      "text/plain": [
       "array([False,  True, False,  True])"
      ]
     },
     "execution_count": 7,
     "metadata": {},
     "output_type": "execute_result"
    }
   ],
   "source": [
    "rost > 180 # второй и четвертый"
   ]
  },
  {
   "cell_type": "markdown",
   "metadata": {},
   "source": [
    "Раз мы можем проверить выполнение условия для всех элементов, мы можем и отфильтровать интересующие нас элементы. Что такое фильтрация? Это выбор элементов. А за выбор элементов в Python отвечают квадратные скобки. В квадратных скобках можно указать:\n",
    "\n",
    "* номер элемента (тут стоит учитывать, что в Python нумерация с нуля, а не с единицы), актуально, например, для списков и массивов;\n",
    "* название элемента (будет актуально для таблиц при выборе столбцов по названию);\n",
    "* условие, которое должно выполняться для отобранных элементов.\n",
    "\n",
    "Поставим после названия `rost` квадратные скобки и впишем туда условие:"
   ]
  },
  {
   "cell_type": "code",
   "execution_count": 8,
   "metadata": {},
   "outputs": [
    {
     "data": {
      "text/plain": [
       "array([195, 183])"
      ]
     },
     "execution_count": 8,
     "metadata": {},
     "output_type": "execute_result"
    }
   ],
   "source": [
    "rost[rost > 180]"
   ]
  },
  {
   "cell_type": "markdown",
   "metadata": {},
   "source": [
    "Готово! Python выбрал из `rost` элементы, на которых проверка условия `rost > 180` дала ответы `True`. Теперь это новый массив из двух элементов, и при желании его можно куда-то сохранить:"
   ]
  },
  {
   "cell_type": "code",
   "execution_count": 9,
   "metadata": {},
   "outputs": [
    {
     "name": "stdout",
     "output_type": "stream",
     "text": [
      "[195 183]\n"
     ]
    }
   ],
   "source": [
    "high = rost[rost > 180]\n",
    "print(high)"
   ]
  }
 ],
 "metadata": {
  "kernelspec": {
   "display_name": "Python 3",
   "language": "python",
   "name": "python3"
  },
  "language_info": {
   "codemirror_mode": {
    "name": "ipython",
    "version": 3
   },
   "file_extension": ".py",
   "mimetype": "text/x-python",
   "name": "python",
   "nbconvert_exporter": "python",
   "pygments_lexer": "ipython3",
   "version": "3.7.4"
  }
 },
 "nbformat": 4,
 "nbformat_minor": 2
}
