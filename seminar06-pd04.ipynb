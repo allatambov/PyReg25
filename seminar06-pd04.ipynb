{
 "cells": [
  {
   "cell_type": "markdown",
   "metadata": {},
   "source": [
    "# Введение в регрессионный анализ: интенсив по Python\n",
    "\n",
    "*Алла Тамбовцева*\n",
    "\n",
    "## Семинар 6. Операции с датафреймами Pandas: часть 4"
   ]
  },
  {
   "cell_type": "code",
   "execution_count": null,
   "metadata": {},
   "outputs": [],
   "source": [
    "### YOUR IMPORTS HERE ###"
   ]
  },
  {
   "cell_type": "markdown",
   "metadata": {},
   "source": [
    "В файле `elections_agg.xlsx` (скачать [здесь](https://disk.yandex.ru/d/PDW3Vb3HXBeO3g)) сохранены результаты выборов в Государственную Думу в разрезе территориальных избирательных комиссий (одна строка – одна комиссия). Переменные в файле:\n",
    "\n",
    "* `okrug`: название федерального округа;\n",
    "* `region`: название региона;\n",
    "* `tik`: название ТИК;\n",
    "* `total`: число зарегистрированных избирателей;\n",
    "* `turnout`: явка.\n",
    "\n",
    "Далее – столбцы с числом голосов за партии:\n",
    "\n",
    "* `КПРФ`: политическая партия \"КОММУНИСТИЧЕСКАЯ ПАРТИЯ РОССИЙСКОЙ ФЕДЕРАЦИИ\";\n",
    "* `ЗЕЛЕНЫЕ`: политическая партия \"Российская экологическая партия \"ЗЕЛЁНЫЕ\";\n",
    "* `ЛДПР`: политическая партия ЛДПР – Либерально-демократическая партия России;\n",
    "* `НЛ`: политическая партия \"НОВЫЕ ЛЮДИ\";\n",
    "* `ЕР`: всероссийская политическая партия \"ЕДИНАЯ РОССИЯ\";\n",
    "* `СР`: партия СПРАВЕДЛИВАЯ РОССИЯ – ЗА ПРАВДУ;\n",
    "* `ЯБЛОКО`: политическая партия \"Российская объединенная демократическая партия \"ЯБЛОКО\";\n",
    "* `ПР`: всероссийская политическая партия \"ПАРТИЯ РОСТА\";\n",
    "* `РПСС`: политическая партия РОССИЙСКАЯ ПАРТИЯ СВОБОДЫ И СПРАВЕДЛИВОСТИ;\n",
    "* `КР`: политическая партия КОММУНИСТИЧЕСКАЯ ПАРТИЯ КОММУНИСТЫ РОССИИ;\n",
    "* `ГП`: политическая партия \"Гражданская Платформа\";\n",
    "* `ЗА`: политическая партия ЗЕЛЕНАЯ АЛЬТЕРНАТИВА;\n",
    "* `РОДИНА`: \"ВСЕРОССИЙСКАЯ ПОЛИТИЧЕСКАЯ ПАРТИЯ \"РОДИНА\".\n",
    "\n",
    "Далее – столбцы с процентами голосов за партии (`КПРФ%` - `РОДИНА%`)."
   ]
  },
  {
   "cell_type": "markdown",
   "metadata": {},
   "source": [
    "Загрузите данные из файла `elections_agg.xlsx` и сохраните в датафрейм `data`.\n",
    "\n",
    "*Подсказка:* функция `read_excel()` из `pandas`."
   ]
  },
  {
   "cell_type": "code",
   "execution_count": null,
   "metadata": {},
   "outputs": [],
   "source": [
    "### YOUR CODE HERE ###"
   ]
  },
  {
   "cell_type": "markdown",
   "metadata": {},
   "source": [
    "### Задача 1\n",
    "\n",
    "Выведите таблицу частот для столбца `okrug`. Сколько районов (ТИКов) в Сибирском федеральном округе?"
   ]
  },
  {
   "cell_type": "code",
   "execution_count": null,
   "metadata": {},
   "outputs": [],
   "source": [
    "### YOUR CODE HERE ###"
   ]
  },
  {
   "cell_type": "markdown",
   "metadata": {},
   "source": [
    "### Задача 2\n",
    "\n",
    "Сравните результаты сортировки строк в `data`:\n",
    "\n",
    "* сортировки только по федеральному округу;\n",
    "* сортировки по федеральному округу и региону."
   ]
  },
  {
   "cell_type": "code",
   "execution_count": null,
   "metadata": {},
   "outputs": [],
   "source": [
    "### YOUR CODE HERE ###"
   ]
  },
  {
   "cell_type": "markdown",
   "metadata": {},
   "source": [
    "### Задача 3\n",
    "\n",
    "* Добавьте в `data` столбец `КП%` – сумму процентов голосов за коммунистические партии (КПРФ и «Коммунисты России»). \n",
    "\n",
    "* Добавьте в `data` столбец `ЭКО%` – суммы процентов за экологические партии («Зеленые» и «Зеленая альтернатива»).\n",
    "\n",
    "Постройте ящики с усами для добавленных столбцов  – отдельный график для каждого столбца."
   ]
  },
  {
   "cell_type": "code",
   "execution_count": null,
   "metadata": {},
   "outputs": [],
   "source": [
    "### YOUR CODE HERE ###"
   ]
  },
  {
   "cell_type": "markdown",
   "metadata": {},
   "source": [
    "### Задача 4\n",
    "\n",
    "Сгруппируйте строки в `data` по федеральному округу и выведите описательные статистики для процента голосов за экологические партии."
   ]
  },
  {
   "cell_type": "code",
   "execution_count": null,
   "metadata": {},
   "outputs": [],
   "source": [
    "### YOUR CODE HERE ###"
   ]
  },
  {
   "cell_type": "markdown",
   "metadata": {},
   "source": [
    "### Задача 5\n",
    "\n",
    "Сгруппируйте строки в `data` по региону, выберите столбцы `turnout` и `total`, посчитайте по ним сумму. Полученную таблицу сохраните в переменную `data_agg`."
   ]
  },
  {
   "cell_type": "code",
   "execution_count": null,
   "metadata": {},
   "outputs": [],
   "source": [
    "### YOUR CODE HERE ###"
   ]
  },
  {
   "cell_type": "markdown",
   "metadata": {},
   "source": [
    "### Задача 6\n",
    "\n",
    "Добавьте в `data_agg` столбец `turnout%` с явкой в процентах. Вычислите среднее по полученному столбцу и сохраните в переменную `avg`."
   ]
  },
  {
   "cell_type": "code",
   "execution_count": null,
   "metadata": {},
   "outputs": [],
   "source": [
    "### YOUR CODE HERE ###"
   ]
  },
  {
   "cell_type": "markdown",
   "metadata": {},
   "source": [
    "### Задача 7"
   ]
  },
  {
   "cell_type": "markdown",
   "metadata": {},
   "source": [
    "Добавьте в `data_agg` столбец `high` из 0 и 1, где 1 ставится, если явка в процентах в регионе выше средней."
   ]
  },
  {
   "cell_type": "code",
   "execution_count": null,
   "metadata": {},
   "outputs": [],
   "source": [
    "### YOUR CODE HERE ###"
   ]
  },
  {
   "cell_type": "markdown",
   "metadata": {},
   "source": [
    "### Задача 8\n",
    "\n",
    "Отсортируйте строки в `data_agg` по убыванию явки в процентах и сохраните изменения."
   ]
  },
  {
   "cell_type": "code",
   "execution_count": null,
   "metadata": {},
   "outputs": [],
   "source": [
    "### YOUR CODE HERE ###"
   ]
  }
 ],
 "metadata": {
  "kernelspec": {
   "display_name": "Python 3",
   "language": "python",
   "name": "python3"
  },
  "language_info": {
   "codemirror_mode": {
    "name": "ipython",
    "version": 3
   },
   "file_extension": ".py",
   "mimetype": "text/x-python",
   "name": "python",
   "nbconvert_exporter": "python",
   "pygments_lexer": "ipython3",
   "version": "3.7.4"
  }
 },
 "nbformat": 4,
 "nbformat_minor": 2
}
