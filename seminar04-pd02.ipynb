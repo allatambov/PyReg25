{
 "cells": [
  {
   "cell_type": "markdown",
   "metadata": {},
   "source": [
    "# Введение в регрессионный анализ: интенсив по Python\n",
    "\n",
    "*Алла Тамбовцева*\n",
    "\n",
    "## Семинар 4. Операции с датафреймами Pandas: часть 2"
   ]
  },
  {
   "cell_type": "code",
   "execution_count": null,
   "metadata": {},
   "outputs": [],
   "source": [
    "### YOUR IMPORTS HERE ###"
   ]
  },
  {
   "cell_type": "markdown",
   "metadata": {},
   "source": [
    "На этом семинаре мы будем работать с данными из файла `beasts.csv` (скачать [здесь](https://github.com/allatambov/PyReg25/blob/main/beasts.csv)), который содержит\n",
    "характеристики фантастических существ. Показатели в файле:\n",
    "\n",
    "* `Name`: название существа;\n",
    "* `Class`: класс существа (если есть, если нет, дублируется название); \n",
    "* `Classification`: классификация Министерства Магии;\n",
    "* `Colour`: цвет тела;\n",
    "* `Eye`: цвет глаз;\n",
    "* `Native`: происхождение и распространение;\n",
    "* `Size`: размер в дюймах.\n",
    "\n",
    "Загрузите данные из файла `beasts.csv` в датафрейм `beasts`. Выведите описательные статистики для числовых и текстовых столбцов датафрейма."
   ]
  },
  {
   "cell_type": "code",
   "execution_count": null,
   "metadata": {},
   "outputs": [],
   "source": [
    "### YOUR CODE HERE ###"
   ]
  },
  {
   "cell_type": "code",
   "execution_count": null,
   "metadata": {},
   "outputs": [],
   "source": [
    "import pandas as pd\n",
    "beasts = pd.read_csv(\"beasts.csv\")"
   ]
  },
  {
   "cell_type": "markdown",
   "metadata": {},
   "source": [
    "### Задача 1\n",
    "\n",
    "Добавьте в датафрейм `beasts` столбец `Dragon` из 0 и 1, где 1 соответствует драконам (значение `Dragon` в `Class`)."
   ]
  },
  {
   "cell_type": "code",
   "execution_count": null,
   "metadata": {},
   "outputs": [],
   "source": [
    "### YOUR CODE HERE ###"
   ]
  },
  {
   "cell_type": "markdown",
   "metadata": {},
   "source": [
    "### Задача 2\n",
    "\n",
    "Выберите строки, соответствующие драконам, и сохраните эти строки в датафрейм `dragons`."
   ]
  },
  {
   "cell_type": "code",
   "execution_count": null,
   "metadata": {},
   "outputs": [],
   "source": [
    "### YOUR CODE HERE ###"
   ]
  },
  {
   "cell_type": "markdown",
   "metadata": {},
   "source": [
    "### Задача 3\n",
    "\n",
    "Выберите строки, соответствующие существам из Греции или Румынии (*Greece* или *Romania* в `Native`). Вычислите их количество."
   ]
  },
  {
   "cell_type": "code",
   "execution_count": null,
   "metadata": {},
   "outputs": [],
   "source": [
    "### YOUR CODE HERE ###"
   ]
  },
  {
   "cell_type": "markdown",
   "metadata": {},
   "source": [
    "### Задача 4\n",
    "\n",
    "Выберите строки, соответствующие существам размером более 500 футов."
   ]
  },
  {
   "cell_type": "code",
   "execution_count": null,
   "metadata": {},
   "outputs": [],
   "source": [
    "### YOUR CODE HERE ###"
   ]
  },
  {
   "cell_type": "markdown",
   "metadata": {},
   "source": [
    "### Задача 5\n",
    "\n",
    "Выберите строки, соответствующие существам размером от 100 до 200 футов включительно."
   ]
  },
  {
   "cell_type": "code",
   "execution_count": null,
   "metadata": {},
   "outputs": [],
   "source": [
    "### YOUR CODE HERE ###"
   ]
  },
  {
   "cell_type": "markdown",
   "metadata": {},
   "source": [
    "### Задача 6\n",
    "\n",
    "Выберите строки, соответствующие драконам размером менее 300 футов."
   ]
  },
  {
   "cell_type": "code",
   "execution_count": null,
   "metadata": {},
   "outputs": [],
   "source": [
    "### YOUR CODE HERE ###"
   ]
  },
  {
   "cell_type": "markdown",
   "metadata": {},
   "source": [
    "### Задача 7\n",
    "\n",
    "Выберите строки, соответствующие существам с классом Министерства Магии не ниже 4 и имеющим желтые глаза (`Yellow`). Сохраните эти строки в датафрейм `dang_yellow`."
   ]
  },
  {
   "cell_type": "code",
   "execution_count": null,
   "metadata": {},
   "outputs": [],
   "source": [
    "### YOUR CODE HERE ###"
   ]
  }
 ],
 "metadata": {
  "kernelspec": {
   "display_name": "Python 3",
   "language": "python",
   "name": "python3"
  },
  "language_info": {
   "codemirror_mode": {
    "name": "ipython",
    "version": 3
   },
   "file_extension": ".py",
   "mimetype": "text/x-python",
   "name": "python",
   "nbconvert_exporter": "python",
   "pygments_lexer": "ipython3",
   "version": "3.7.4"
  }
 },
 "nbformat": 4,
 "nbformat_minor": 2
}
