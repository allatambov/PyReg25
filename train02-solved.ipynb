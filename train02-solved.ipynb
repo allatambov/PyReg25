{
 "cells": [
  {
   "cell_type": "markdown",
   "metadata": {},
   "source": [
    "# Введение в регрессионный анализ: интенсив по Python\n",
    "\n",
    "## Задачи для тренировки по итогам недели №2"
   ]
  },
  {
   "cell_type": "code",
   "execution_count": 1,
   "metadata": {},
   "outputs": [],
   "source": [
    "import pandas as pd"
   ]
  },
  {
   "cell_type": "markdown",
   "metadata": {},
   "source": [
    "Загрузите данные из файла `Stars.csv` (скачать [здесь](https://github.com/allatambov/PyReg25/blob/main/Stars.csv)) и выполните следующие задания.\n",
    "\n",
    "Показатели в файле:\n",
    "\n",
    "* `Temperature`: температура звезды по Кельвину;\n",
    "* `Luminosity`: светимость звезды в единицах светимости Солнца;\n",
    "* `Radius`: радиус звезды по отношению к Солнцу;\n",
    "* `Absolute magnitude`: абсолютная звездная величина;\n",
    "* `Star type`: тип звезды (0 — коричневый карлик, 1 — красный карлик, 2 — белый карлик, 3 —\n",
    "звезда главной последовательности, 4 — супергигант, 5 — гипергигант); \n",
    "* `Star color`: цвет звезды;\n",
    "* `Spectral Class`: спектральный класс звезды.\n",
    "\n",
    "Если в датафрейме есть строки с пропущенными значениями, удалять их не нужно."
   ]
  },
  {
   "cell_type": "code",
   "execution_count": 2,
   "metadata": {},
   "outputs": [
    {
     "data": {
      "text/html": [
       "<div>\n",
       "<style scoped>\n",
       "    .dataframe tbody tr th:only-of-type {\n",
       "        vertical-align: middle;\n",
       "    }\n",
       "\n",
       "    .dataframe tbody tr th {\n",
       "        vertical-align: top;\n",
       "    }\n",
       "\n",
       "    .dataframe thead th {\n",
       "        text-align: right;\n",
       "    }\n",
       "</style>\n",
       "<table border=\"1\" class=\"dataframe\">\n",
       "  <thead>\n",
       "    <tr style=\"text-align: right;\">\n",
       "      <th></th>\n",
       "      <th>Temperature</th>\n",
       "      <th>Luminosity</th>\n",
       "      <th>Radius</th>\n",
       "      <th>Absolute magnitude</th>\n",
       "      <th>Star type</th>\n",
       "      <th>Star color</th>\n",
       "      <th>Spectral Class</th>\n",
       "    </tr>\n",
       "  </thead>\n",
       "  <tbody>\n",
       "    <tr>\n",
       "      <th>0</th>\n",
       "      <td>3068</td>\n",
       "      <td>0.002400</td>\n",
       "      <td>0.1700</td>\n",
       "      <td>16.12</td>\n",
       "      <td>0</td>\n",
       "      <td>Red</td>\n",
       "      <td>M</td>\n",
       "    </tr>\n",
       "    <tr>\n",
       "      <th>1</th>\n",
       "      <td>3042</td>\n",
       "      <td>0.000500</td>\n",
       "      <td>0.1542</td>\n",
       "      <td>16.60</td>\n",
       "      <td>0</td>\n",
       "      <td>Red</td>\n",
       "      <td>M</td>\n",
       "    </tr>\n",
       "    <tr>\n",
       "      <th>2</th>\n",
       "      <td>2600</td>\n",
       "      <td>0.000300</td>\n",
       "      <td>0.1020</td>\n",
       "      <td>18.70</td>\n",
       "      <td>0</td>\n",
       "      <td>Red</td>\n",
       "      <td>M</td>\n",
       "    </tr>\n",
       "    <tr>\n",
       "      <th>3</th>\n",
       "      <td>2800</td>\n",
       "      <td>0.000200</td>\n",
       "      <td>0.1600</td>\n",
       "      <td>16.65</td>\n",
       "      <td>0</td>\n",
       "      <td>Red</td>\n",
       "      <td>M</td>\n",
       "    </tr>\n",
       "    <tr>\n",
       "      <th>4</th>\n",
       "      <td>1939</td>\n",
       "      <td>0.000138</td>\n",
       "      <td>0.1030</td>\n",
       "      <td>20.06</td>\n",
       "      <td>0</td>\n",
       "      <td>Red</td>\n",
       "      <td>M</td>\n",
       "    </tr>\n",
       "    <tr>\n",
       "      <th>...</th>\n",
       "      <td>...</td>\n",
       "      <td>...</td>\n",
       "      <td>...</td>\n",
       "      <td>...</td>\n",
       "      <td>...</td>\n",
       "      <td>...</td>\n",
       "      <td>...</td>\n",
       "    </tr>\n",
       "    <tr>\n",
       "      <th>235</th>\n",
       "      <td>38940</td>\n",
       "      <td>374830.000000</td>\n",
       "      <td>1356.0000</td>\n",
       "      <td>-9.93</td>\n",
       "      <td>5</td>\n",
       "      <td>Blue</td>\n",
       "      <td>O</td>\n",
       "    </tr>\n",
       "    <tr>\n",
       "      <th>236</th>\n",
       "      <td>30839</td>\n",
       "      <td>834042.000000</td>\n",
       "      <td>1194.0000</td>\n",
       "      <td>-10.63</td>\n",
       "      <td>5</td>\n",
       "      <td>Blue</td>\n",
       "      <td>O</td>\n",
       "    </tr>\n",
       "    <tr>\n",
       "      <th>237</th>\n",
       "      <td>8829</td>\n",
       "      <td>537493.000000</td>\n",
       "      <td>1423.0000</td>\n",
       "      <td>-10.73</td>\n",
       "      <td>5</td>\n",
       "      <td>White</td>\n",
       "      <td>A</td>\n",
       "    </tr>\n",
       "    <tr>\n",
       "      <th>238</th>\n",
       "      <td>9235</td>\n",
       "      <td>404940.000000</td>\n",
       "      <td>1112.0000</td>\n",
       "      <td>-11.23</td>\n",
       "      <td>5</td>\n",
       "      <td>White</td>\n",
       "      <td>A</td>\n",
       "    </tr>\n",
       "    <tr>\n",
       "      <th>239</th>\n",
       "      <td>37882</td>\n",
       "      <td>294903.000000</td>\n",
       "      <td>1783.0000</td>\n",
       "      <td>-7.80</td>\n",
       "      <td>5</td>\n",
       "      <td>Blue</td>\n",
       "      <td>O</td>\n",
       "    </tr>\n",
       "  </tbody>\n",
       "</table>\n",
       "<p>240 rows × 7 columns</p>\n",
       "</div>"
      ],
      "text/plain": [
       "     Temperature     Luminosity     Radius  Absolute magnitude  Star type  \\\n",
       "0           3068       0.002400     0.1700               16.12          0   \n",
       "1           3042       0.000500     0.1542               16.60          0   \n",
       "2           2600       0.000300     0.1020               18.70          0   \n",
       "3           2800       0.000200     0.1600               16.65          0   \n",
       "4           1939       0.000138     0.1030               20.06          0   \n",
       "..           ...            ...        ...                 ...        ...   \n",
       "235        38940  374830.000000  1356.0000               -9.93          5   \n",
       "236        30839  834042.000000  1194.0000              -10.63          5   \n",
       "237         8829  537493.000000  1423.0000              -10.73          5   \n",
       "238         9235  404940.000000  1112.0000              -11.23          5   \n",
       "239        37882  294903.000000  1783.0000               -7.80          5   \n",
       "\n",
       "    Star color Spectral Class  \n",
       "0          Red              M  \n",
       "1          Red              M  \n",
       "2          Red              M  \n",
       "3          Red              M  \n",
       "4          Red              M  \n",
       "..         ...            ...  \n",
       "235       Blue              O  \n",
       "236       Blue              O  \n",
       "237      White              A  \n",
       "238      White              A  \n",
       "239       Blue              O  \n",
       "\n",
       "[240 rows x 7 columns]"
      ]
     },
     "execution_count": 2,
     "metadata": {},
     "output_type": "execute_result"
    }
   ],
   "source": [
    "stars = pd.read_csv(\"Stars.csv\")\n",
    "stars"
   ]
  },
  {
   "cell_type": "markdown",
   "metadata": {},
   "source": [
    "### Задача 0\n",
    "\n",
    "Выведите информацию о типах столбцов в датафрейме. Выведите описательные статистики для всех числовых столбцов в датафрейме."
   ]
  },
  {
   "cell_type": "code",
   "execution_count": 3,
   "metadata": {},
   "outputs": [
    {
     "name": "stdout",
     "output_type": "stream",
     "text": [
      "<class 'pandas.core.frame.DataFrame'>\n",
      "RangeIndex: 240 entries, 0 to 239\n",
      "Data columns (total 7 columns):\n",
      " #   Column              Non-Null Count  Dtype  \n",
      "---  ------              --------------  -----  \n",
      " 0   Temperature         240 non-null    int64  \n",
      " 1   Luminosity          240 non-null    float64\n",
      " 2   Radius              240 non-null    float64\n",
      " 3   Absolute magnitude  240 non-null    float64\n",
      " 4   Star type           240 non-null    int64  \n",
      " 5   Star color          240 non-null    object \n",
      " 6   Spectral Class      240 non-null    object \n",
      "dtypes: float64(3), int64(2), object(2)\n",
      "memory usage: 13.2+ KB\n"
     ]
    }
   ],
   "source": [
    "stars.info()"
   ]
  },
  {
   "cell_type": "code",
   "execution_count": 4,
   "metadata": {},
   "outputs": [
    {
     "data": {
      "text/html": [
       "<div>\n",
       "<style scoped>\n",
       "    .dataframe tbody tr th:only-of-type {\n",
       "        vertical-align: middle;\n",
       "    }\n",
       "\n",
       "    .dataframe tbody tr th {\n",
       "        vertical-align: top;\n",
       "    }\n",
       "\n",
       "    .dataframe thead th {\n",
       "        text-align: right;\n",
       "    }\n",
       "</style>\n",
       "<table border=\"1\" class=\"dataframe\">\n",
       "  <thead>\n",
       "    <tr style=\"text-align: right;\">\n",
       "      <th></th>\n",
       "      <th>Temperature</th>\n",
       "      <th>Luminosity</th>\n",
       "      <th>Radius</th>\n",
       "      <th>Absolute magnitude</th>\n",
       "      <th>Star type</th>\n",
       "    </tr>\n",
       "  </thead>\n",
       "  <tbody>\n",
       "    <tr>\n",
       "      <th>count</th>\n",
       "      <td>240.000000</td>\n",
       "      <td>240.000000</td>\n",
       "      <td>240.000000</td>\n",
       "      <td>240.000000</td>\n",
       "      <td>240.000000</td>\n",
       "    </tr>\n",
       "    <tr>\n",
       "      <th>mean</th>\n",
       "      <td>10497.462500</td>\n",
       "      <td>107188.361635</td>\n",
       "      <td>237.157781</td>\n",
       "      <td>4.382396</td>\n",
       "      <td>2.500000</td>\n",
       "    </tr>\n",
       "    <tr>\n",
       "      <th>std</th>\n",
       "      <td>9552.425037</td>\n",
       "      <td>179432.244940</td>\n",
       "      <td>517.155763</td>\n",
       "      <td>10.532512</td>\n",
       "      <td>1.711394</td>\n",
       "    </tr>\n",
       "    <tr>\n",
       "      <th>min</th>\n",
       "      <td>1939.000000</td>\n",
       "      <td>0.000080</td>\n",
       "      <td>0.008400</td>\n",
       "      <td>-11.920000</td>\n",
       "      <td>0.000000</td>\n",
       "    </tr>\n",
       "    <tr>\n",
       "      <th>25%</th>\n",
       "      <td>3344.250000</td>\n",
       "      <td>0.000865</td>\n",
       "      <td>0.102750</td>\n",
       "      <td>-6.232500</td>\n",
       "      <td>1.000000</td>\n",
       "    </tr>\n",
       "    <tr>\n",
       "      <th>50%</th>\n",
       "      <td>5776.000000</td>\n",
       "      <td>0.070500</td>\n",
       "      <td>0.762500</td>\n",
       "      <td>8.313000</td>\n",
       "      <td>2.500000</td>\n",
       "    </tr>\n",
       "    <tr>\n",
       "      <th>75%</th>\n",
       "      <td>15055.500000</td>\n",
       "      <td>198050.000000</td>\n",
       "      <td>42.750000</td>\n",
       "      <td>13.697500</td>\n",
       "      <td>4.000000</td>\n",
       "    </tr>\n",
       "    <tr>\n",
       "      <th>max</th>\n",
       "      <td>40000.000000</td>\n",
       "      <td>849420.000000</td>\n",
       "      <td>1948.500000</td>\n",
       "      <td>20.060000</td>\n",
       "      <td>5.000000</td>\n",
       "    </tr>\n",
       "  </tbody>\n",
       "</table>\n",
       "</div>"
      ],
      "text/plain": [
       "        Temperature     Luminosity       Radius  Absolute magnitude  \\\n",
       "count    240.000000     240.000000   240.000000          240.000000   \n",
       "mean   10497.462500  107188.361635   237.157781            4.382396   \n",
       "std     9552.425037  179432.244940   517.155763           10.532512   \n",
       "min     1939.000000       0.000080     0.008400          -11.920000   \n",
       "25%     3344.250000       0.000865     0.102750           -6.232500   \n",
       "50%     5776.000000       0.070500     0.762500            8.313000   \n",
       "75%    15055.500000  198050.000000    42.750000           13.697500   \n",
       "max    40000.000000  849420.000000  1948.500000           20.060000   \n",
       "\n",
       "        Star type  \n",
       "count  240.000000  \n",
       "mean     2.500000  \n",
       "std      1.711394  \n",
       "min      0.000000  \n",
       "25%      1.000000  \n",
       "50%      2.500000  \n",
       "75%      4.000000  \n",
       "max      5.000000  "
      ]
     },
     "execution_count": 4,
     "metadata": {},
     "output_type": "execute_result"
    }
   ],
   "source": [
    "stars.describe()"
   ]
  },
  {
   "cell_type": "markdown",
   "metadata": {},
   "source": [
    "### Задача 1\n",
    "\n",
    "Добавьте в датафрейм столбец `White Dwarf`, который содержит значения 0 и 1, считая, что 1 ставится в случае, если звезда является белым карликом."
   ]
  },
  {
   "cell_type": "code",
   "execution_count": 5,
   "metadata": {},
   "outputs": [],
   "source": [
    "stars[\"White Dwarf\"] = (stars[\"Star type\"] == 2).astype(int)"
   ]
  },
  {
   "cell_type": "markdown",
   "metadata": {},
   "source": [
    "### Задача 2\n",
    "\n",
    "Сохраните строки, соответствующие звездам с абсолютной звездной величиной (`Absolute magnitude`) меньше 0, в датафрейм `low`."
   ]
  },
  {
   "cell_type": "code",
   "execution_count": 6,
   "metadata": {},
   "outputs": [],
   "source": [
    "low = stars[stars[\"Absolute magnitude\"] < 0]"
   ]
  },
  {
   "cell_type": "markdown",
   "metadata": {},
   "source": [
    "### Задача 3\n",
    "\n",
    "Сохраните строки, соответствующие звездам спектрального класса `O` или `M` , в датафрейм `stars_om`."
   ]
  },
  {
   "cell_type": "code",
   "execution_count": 7,
   "metadata": {},
   "outputs": [],
   "source": [
    "stars_om = stars[(stars[\"Spectral Class\"] == \"O\") | (stars[\"Spectral Class\"] == \"M\")]"
   ]
  },
  {
   "cell_type": "markdown",
   "metadata": {},
   "source": [
    "### Задача 4\n",
    "\n",
    "Сохраните строки, соответствующие звездам-гигантам и звездам-супергигантам, в датафрейм `giants`. "
   ]
  },
  {
   "cell_type": "code",
   "execution_count": 8,
   "metadata": {},
   "outputs": [],
   "source": [
    "giants = stars[(stars[\"Star type\"] == 4) | (stars[\"Star type\"] == 5)]"
   ]
  },
  {
   "cell_type": "markdown",
   "metadata": {},
   "source": [
    "### Задача 5\n",
    "\n",
    "Выведите таблицу частот для столбца `Star color`. "
   ]
  },
  {
   "cell_type": "code",
   "execution_count": 9,
   "metadata": {},
   "outputs": [
    {
     "data": {
      "text/plain": [
       "Red                   112\n",
       "Blue                   55\n",
       "Blue-white             26\n",
       "Blue White             10\n",
       "yellow-white            8\n",
       "White                   7\n",
       "Blue white              3\n",
       "Yellowish White         3\n",
       "white                   3\n",
       "Whitish                 2\n",
       "Orange                  2\n",
       "yellowish               2\n",
       "Pale yellow orange      1\n",
       "White-Yellow            1\n",
       "Blue                    1\n",
       "Yellowish               1\n",
       "Orange-Red              1\n",
       "Blue white              1\n",
       "Blue-White              1\n",
       "Name: Star color, dtype: int64"
      ]
     },
     "execution_count": 9,
     "metadata": {},
     "output_type": "execute_result"
    }
   ],
   "source": [
    "stars[\"Star color\"].value_counts()"
   ]
  },
  {
   "cell_type": "markdown",
   "metadata": {},
   "source": [
    "### Задача 6\n",
    "\n",
    "Сохраните строки, соответствующие звездам главной последовательности синего (`Blue`) или сине-белого цвета (`Blue-white` или `Blue-White`), в датафрейм `main_blue`. \n",
    "\n",
    "Вычислите количество строк в полученном датафрейме. Выведите описательные статистики для столбца `Spectral Class`. Звезд какого спектрального класса больше всего среди отобранных наблюдений?"
   ]
  },
  {
   "cell_type": "code",
   "execution_count": 10,
   "metadata": {},
   "outputs": [],
   "source": [
    "# внимание на круглые скобки\n",
    "main_blue = stars[(stars[\"Star type\"] == 3) & \n",
    "                  ((stars[\"Star color\"] == \"Blue\") | (stars[\"Star color\"] == \"Blue-White\"))]"
   ]
  },
  {
   "cell_type": "code",
   "execution_count": 11,
   "metadata": {},
   "outputs": [
    {
     "name": "stdout",
     "output_type": "stream",
     "text": [
      "6\n"
     ]
    }
   ],
   "source": [
    "print(len(main_blue)) # количество строк"
   ]
  },
  {
   "cell_type": "code",
   "execution_count": 12,
   "metadata": {},
   "outputs": [
    {
     "data": {
      "text/plain": [
       "count     6\n",
       "unique    2\n",
       "top       O\n",
       "freq      5\n",
       "Name: Spectral Class, dtype: object"
      ]
     },
     "execution_count": 12,
     "metadata": {},
     "output_type": "execute_result"
    }
   ],
   "source": [
    "main_blue[\"Spectral Class\"].describe() # класса O"
   ]
  },
  {
   "cell_type": "markdown",
   "metadata": {},
   "source": [
    "### Задача 7\n",
    "\n",
    "a. Вычислите среднюю и медианную светимость звезд, используя датафрейм `stars`. \n",
    "\n",
    "b. Вычислите границы типичных значений светимости звезды. \n",
    "\n",
    "c. Выберите строки, соответствующие звездам с *типичными значениями*  светимости, сохраните их в датафрейм `stars2`. Вычислите среднюю и медианную светимость звезд в `stars2`."
   ]
  },
  {
   "cell_type": "code",
   "execution_count": 13,
   "metadata": {},
   "outputs": [
    {
     "name": "stdout",
     "output_type": "stream",
     "text": [
      "107188.36163460833\n",
      "0.07050000000000001\n"
     ]
    }
   ],
   "source": [
    "# для stars\n",
    "\n",
    "print(stars[\"Luminosity\"].mean())\n",
    "print(stars[\"Luminosity\"].median())"
   ]
  },
  {
   "cell_type": "code",
   "execution_count": 14,
   "metadata": {},
   "outputs": [
    {
     "name": "stdout",
     "output_type": "stream",
     "text": [
      "-297074.997838125 495124.998702875\n"
     ]
    }
   ],
   "source": [
    "# границы типичных значений\n",
    "\n",
    "q1 = stars[\"Luminosity\"].quantile(0.25)\n",
    "q3 = stars[\"Luminosity\"].quantile(0.75)\n",
    "ir = q3 - q1\n",
    "\n",
    "lower = q1 - 1.5 * ir\n",
    "upper = q3 + 1.5 * ir\n",
    "\n",
    "print(lower, upper)"
   ]
  },
  {
   "cell_type": "code",
   "execution_count": 15,
   "metadata": {},
   "outputs": [],
   "source": [
    "# выбираем типичные значения\n",
    "\n",
    "stars2 = stars[(stars[\"Luminosity\"] >= lower) & (stars[\"Luminosity\"] <= upper)]"
   ]
  },
  {
   "cell_type": "code",
   "execution_count": 16,
   "metadata": {},
   "outputs": [
    {
     "name": "stdout",
     "output_type": "stream",
     "text": [
      "76535.88505397367\n",
      "0.0105\n"
     ]
    }
   ],
   "source": [
    "# для stars2\n",
    "\n",
    "print(stars2[\"Luminosity\"].mean())\n",
    "print(stars2[\"Luminosity\"].median())"
   ]
  }
 ],
 "metadata": {
  "kernelspec": {
   "display_name": "Python 3",
   "language": "python",
   "name": "python3"
  },
  "language_info": {
   "codemirror_mode": {
    "name": "ipython",
    "version": 3
   },
   "file_extension": ".py",
   "mimetype": "text/x-python",
   "name": "python",
   "nbconvert_exporter": "python",
   "pygments_lexer": "ipython3",
   "version": "3.7.4"
  }
 },
 "nbformat": 4,
 "nbformat_minor": 2
}
