{
 "cells": [
  {
   "cell_type": "markdown",
   "metadata": {},
   "source": [
    "# Введение в регрессионный анализ: интенсив по Python\n",
    "\n",
    "## Задачи для тренировки по итогам недели №3\n",
    "\n",
    "В файле `Salaries.csv` сохранены данные о сотрудниках некоторого университета США:\n",
    "\n",
    "* `rank`: должность;\n",
    "* `discipline`: тип преподаваемой дисциплины (`A` – теоретическая, `B` – практическая); \n",
    "* `yrs.since.phd`: число лет с момента получения степени PhD;\n",
    "* `yrs.service`: стаж – число лет опыта работы;\n",
    "* `sex`: пол;\n",
    "* `salary`: заработная плата за (суммарно за 9 месяцев), в долларах.\n",
    "\n",
    "Загрузите данные из файла `Salaries.csv` (скачать [здесь](https://github.com/allatambov/PyReg25/blob/main/Salaries.csv)) и выполните следующие задания."
   ]
  },
  {
   "cell_type": "code",
   "execution_count": null,
   "metadata": {},
   "outputs": [],
   "source": [
    "### YOUR CODE HERE ###"
   ]
  },
  {
   "cell_type": "markdown",
   "metadata": {},
   "source": [
    "### Задача 1\n",
    "\n",
    "Сгруппируйте строки по типу дисциплины и выведите описательные статистики для заработной платы сотрудников. У кого средняя заработная плата выше, у тех, кто преподает теоретические или практические дисциплины?"
   ]
  },
  {
   "cell_type": "code",
   "execution_count": null,
   "metadata": {},
   "outputs": [],
   "source": [
    "### YOUR CODE HERE ###"
   ]
  },
  {
   "cell_type": "markdown",
   "metadata": {},
   "source": [
    "### Задача 2\n",
    "\n",
    "Сгруппируйте строки по должности и выведите описательные статистики для пола сотрудников. Сколько сотрудников мужского пола среди профессоров (`Prof`)?"
   ]
  },
  {
   "cell_type": "code",
   "execution_count": null,
   "metadata": {},
   "outputs": [],
   "source": [
    "### YOUR CODE HERE ###"
   ]
  },
  {
   "cell_type": "markdown",
   "metadata": {},
   "source": [
    "### Задача 3\n",
    "\n",
    "Сгруппируйте строки по должности и полу и выведите описательные статистики для заработной платы сотрудников. Сколько сотрудников женского пола среди доцентов (`AssocProf`)? У какой категории сотрудников (должность и пол) самая низкая максимальная заработная плата?"
   ]
  },
  {
   "cell_type": "code",
   "execution_count": null,
   "metadata": {},
   "outputs": [],
   "source": [
    "### YOUR CODE HERE ###"
   ]
  },
  {
   "cell_type": "markdown",
   "metadata": {},
   "source": [
    "### Задача 4\n",
    "\n",
    "Отсортируйте строки по возрастанию заработной платы. Какой стаж у сотрудника с самой маленькой заработной платой?"
   ]
  },
  {
   "cell_type": "code",
   "execution_count": null,
   "metadata": {},
   "outputs": [],
   "source": [
    "### YOUR CODE HERE ###"
   ]
  },
  {
   "cell_type": "markdown",
   "metadata": {},
   "source": [
    "### Задача 5\n",
    "\n",
    "Отсортируйте строки по убыванию стажа и числа лет с момента получения степени PhD. Какая заработная плата у сотрудника с самым большим стажем?"
   ]
  },
  {
   "cell_type": "code",
   "execution_count": null,
   "metadata": {},
   "outputs": [],
   "source": [
    "### YOUR CODE HERE ###"
   ]
  }
 ],
 "metadata": {
  "kernelspec": {
   "display_name": "Python 3",
   "language": "python",
   "name": "python3"
  },
  "language_info": {
   "codemirror_mode": {
    "name": "ipython",
    "version": 3
   },
   "file_extension": ".py",
   "mimetype": "text/x-python",
   "name": "python",
   "nbconvert_exporter": "python",
   "pygments_lexer": "ipython3",
   "version": "3.7.4"
  }
 },
 "nbformat": 4,
 "nbformat_minor": 2
}
