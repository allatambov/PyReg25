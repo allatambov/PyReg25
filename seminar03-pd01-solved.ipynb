{
 "cells": [
  {
   "cell_type": "markdown",
   "metadata": {},
   "source": [
    "# Введение в регрессионный анализ: интенсив по Python\n",
    "\n",
    "*Алла Тамбовцева*\n",
    "\n",
    "## Семинар 3. Операции с датафреймами Pandas: часть 1"
   ]
  },
  {
   "cell_type": "markdown",
   "metadata": {},
   "source": [
    "### Задача 1\n",
    "\n",
    "Загрузите данные из [файла](https://github.com/allatambov/PyReg25/blob/main/hp25.csv) `hp25.csv`, предварительно скачав его на компьютер и поместив в рабочую папку Jupyter Notebook (или Google Colab) через *Upload*, и сохраните их в датафрейм `hp`.\n",
    "\n",
    "Запросите описательные статистики по всем а) числовым столбцам; б) текстовым столбцам."
   ]
  },
  {
   "cell_type": "code",
   "execution_count": 1,
   "metadata": {},
   "outputs": [],
   "source": [
    "import pandas as pd"
   ]
  },
  {
   "cell_type": "code",
   "execution_count": 2,
   "metadata": {},
   "outputs": [],
   "source": [
    "# в скобках полное название файла с расширением .csv\n",
    "hp = pd.read_csv(\"hp25.csv\")"
   ]
  },
  {
   "cell_type": "code",
   "execution_count": 3,
   "metadata": {},
   "outputs": [
    {
     "data": {
      "text/html": [
       "<div>\n",
       "<style scoped>\n",
       "    .dataframe tbody tr th:only-of-type {\n",
       "        vertical-align: middle;\n",
       "    }\n",
       "\n",
       "    .dataframe tbody tr th {\n",
       "        vertical-align: top;\n",
       "    }\n",
       "\n",
       "    .dataframe thead th {\n",
       "        text-align: right;\n",
       "    }\n",
       "</style>\n",
       "<table border=\"1\" class=\"dataframe\">\n",
       "  <thead>\n",
       "    <tr style=\"text-align: right;\">\n",
       "      <th></th>\n",
       "      <th>Wand.len</th>\n",
       "      <th>Birth.year</th>\n",
       "      <th>End.year</th>\n",
       "      <th>Age</th>\n",
       "    </tr>\n",
       "  </thead>\n",
       "  <tbody>\n",
       "    <tr>\n",
       "      <th>count</th>\n",
       "      <td>25.000000</td>\n",
       "      <td>115.000000</td>\n",
       "      <td>140.000000</td>\n",
       "      <td>115.000000</td>\n",
       "    </tr>\n",
       "    <tr>\n",
       "      <th>mean</th>\n",
       "      <td>11.270000</td>\n",
       "      <td>1961.121739</td>\n",
       "      <td>2005.164286</td>\n",
       "      <td>51.973913</td>\n",
       "    </tr>\n",
       "    <tr>\n",
       "      <th>std</th>\n",
       "      <td>2.094039</td>\n",
       "      <td>57.717574</td>\n",
       "      <td>97.693075</td>\n",
       "      <td>24.769981</td>\n",
       "    </tr>\n",
       "    <tr>\n",
       "      <th>min</th>\n",
       "      <td>8.000000</td>\n",
       "      <td>1401.000000</td>\n",
       "      <td>1000.000000</td>\n",
       "      <td>15.000000</td>\n",
       "    </tr>\n",
       "    <tr>\n",
       "      <th>25%</th>\n",
       "      <td>9.500000</td>\n",
       "      <td>1960.000000</td>\n",
       "      <td>1998.000000</td>\n",
       "      <td>43.500000</td>\n",
       "    </tr>\n",
       "    <tr>\n",
       "      <th>50%</th>\n",
       "      <td>10.750000</td>\n",
       "      <td>1975.000000</td>\n",
       "      <td>2025.000000</td>\n",
       "      <td>47.000000</td>\n",
       "    </tr>\n",
       "    <tr>\n",
       "      <th>75%</th>\n",
       "      <td>12.750000</td>\n",
       "      <td>1979.000000</td>\n",
       "      <td>2025.000000</td>\n",
       "      <td>61.000000</td>\n",
       "    </tr>\n",
       "    <tr>\n",
       "      <th>max</th>\n",
       "      <td>16.000000</td>\n",
       "      <td>2005.000000</td>\n",
       "      <td>2025.000000</td>\n",
       "      <td>145.000000</td>\n",
       "    </tr>\n",
       "  </tbody>\n",
       "</table>\n",
       "</div>"
      ],
      "text/plain": [
       "        Wand.len   Birth.year     End.year         Age\n",
       "count  25.000000   115.000000   140.000000  115.000000\n",
       "mean   11.270000  1961.121739  2005.164286   51.973913\n",
       "std     2.094039    57.717574    97.693075   24.769981\n",
       "min     8.000000  1401.000000  1000.000000   15.000000\n",
       "25%     9.500000  1960.000000  1998.000000   43.500000\n",
       "50%    10.750000  1975.000000  2025.000000   47.000000\n",
       "75%    12.750000  1979.000000  2025.000000   61.000000\n",
       "max    16.000000  2005.000000  2025.000000  145.000000"
      ]
     },
     "execution_count": 3,
     "metadata": {},
     "output_type": "execute_result"
    }
   ],
   "source": [
    "# а\n",
    "hp.describe()"
   ]
  },
  {
   "cell_type": "code",
   "execution_count": 4,
   "metadata": {},
   "outputs": [
    {
     "data": {
      "text/html": [
       "<div>\n",
       "<style scoped>\n",
       "    .dataframe tbody tr th:only-of-type {\n",
       "        vertical-align: middle;\n",
       "    }\n",
       "\n",
       "    .dataframe tbody tr th {\n",
       "        vertical-align: top;\n",
       "    }\n",
       "\n",
       "    .dataframe thead th {\n",
       "        text-align: right;\n",
       "    }\n",
       "</style>\n",
       "<table border=\"1\" class=\"dataframe\">\n",
       "  <thead>\n",
       "    <tr style=\"text-align: right;\">\n",
       "      <th></th>\n",
       "      <th>Name</th>\n",
       "      <th>Gender</th>\n",
       "      <th>House</th>\n",
       "      <th>Wand</th>\n",
       "      <th>Skills</th>\n",
       "    </tr>\n",
       "  </thead>\n",
       "  <tbody>\n",
       "    <tr>\n",
       "      <th>count</th>\n",
       "      <td>140</td>\n",
       "      <td>139</td>\n",
       "      <td>101</td>\n",
       "      <td>132</td>\n",
       "      <td>113</td>\n",
       "    </tr>\n",
       "    <tr>\n",
       "      <th>unique</th>\n",
       "      <td>140</td>\n",
       "      <td>2</td>\n",
       "      <td>6</td>\n",
       "      <td>29</td>\n",
       "      <td>94</td>\n",
       "    </tr>\n",
       "    <tr>\n",
       "      <th>top</th>\n",
       "      <td>Harry James Potter</td>\n",
       "      <td>Male</td>\n",
       "      <td>Gryffindor</td>\n",
       "      <td>Unknown</td>\n",
       "      <td>Chaser</td>\n",
       "    </tr>\n",
       "    <tr>\n",
       "      <th>freq</th>\n",
       "      <td>1</td>\n",
       "      <td>90</td>\n",
       "      <td>38</td>\n",
       "      <td>104</td>\n",
       "      <td>7</td>\n",
       "    </tr>\n",
       "  </tbody>\n",
       "</table>\n",
       "</div>"
      ],
      "text/plain": [
       "                      Name Gender       House     Wand  Skills\n",
       "count                  140    139         101      132     113\n",
       "unique                 140      2           6       29      94\n",
       "top     Harry James Potter   Male  Gryffindor  Unknown  Chaser\n",
       "freq                     1     90          38      104       7"
      ]
     },
     "execution_count": 4,
     "metadata": {},
     "output_type": "execute_result"
    }
   ],
   "source": [
    "# б\n",
    "hp.describe(include = \"object\")"
   ]
  },
  {
   "cell_type": "markdown",
   "metadata": {},
   "source": [
    "**Дополнение – загрузка файла из другой папки:**\n",
    "\n",
    "Путь к папке, где лежит файл, можно найти, кликнув правой клавишей на файл и выбрав *Свойства*, в строке *Расположение* (Windows) или *Где* (Mac OS). Далее копируем путь к папке и\n",
    "\n",
    "На Windows:\n",
    "\n",
    "* через `\\` добавляем к пути название файла, перед кавычками ставим `r`, чтобы Python воспринимал слэши вида `\\`, используемые на Windows, не как специальные символы:\n",
    "\n",
    "        hp = pd.read_csv(r\"D:\\Downloads\\hp25.csv\")\n",
    "\n",
    "На Mac OS:\n",
    "\n",
    "* через `/` добавляем к пути название файла, слэши вида `/` менять не нужно:\n",
    "\n",
    "        hp = pd.read_csv(\"/User/allat/Desktop/hp25.csv\")"
   ]
  },
  {
   "cell_type": "markdown",
   "metadata": {},
   "source": [
    "### Задача 2\n",
    "\n",
    "Выведите описательные статистики отдельно для столбца `Wand.len` и столбца `House`. \n",
    "\n",
    "*Подсказка:* для выбора столбца впишите его название в квадратные скобки после названия датафрейма."
   ]
  },
  {
   "cell_type": "code",
   "execution_count": 5,
   "metadata": {},
   "outputs": [
    {
     "data": {
      "text/plain": [
       "count    25.000000\n",
       "mean     11.270000\n",
       "std       2.094039\n",
       "min       8.000000\n",
       "25%       9.500000\n",
       "50%      10.750000\n",
       "75%      12.750000\n",
       "max      16.000000\n",
       "Name: Wand.len, dtype: float64"
      ]
     },
     "execution_count": 5,
     "metadata": {},
     "output_type": "execute_result"
    }
   ],
   "source": [
    "hp[\"Wand.len\"].describe()"
   ]
  },
  {
   "cell_type": "code",
   "execution_count": 6,
   "metadata": {},
   "outputs": [
    {
     "data": {
      "text/plain": [
       "count            101\n",
       "unique             6\n",
       "top       Gryffindor\n",
       "freq              38\n",
       "Name: House, dtype: object"
      ]
     },
     "execution_count": 6,
     "metadata": {},
     "output_type": "execute_result"
    }
   ],
   "source": [
    "hp[\"House\"].describe()"
   ]
  },
  {
   "cell_type": "markdown",
   "metadata": {},
   "source": [
    "### Задача 3\n",
    "\n",
    "a. Для столбца `Wand.len` вычислите среднее, стандартное отклонение, медиану, нижний и верхний квартиль. \n",
    "\n",
    "b. Для столбца `House` выведите таблицу частот (сколько раз встречается каждое название факультета/школы).\n",
    "\n",
    "*Подсказка:* методы `.mean()`, `.std()`, `.median()`, `.quantile()`, а также метод `.value_counts()`."
   ]
  },
  {
   "cell_type": "code",
   "execution_count": 7,
   "metadata": {},
   "outputs": [
    {
     "name": "stdout",
     "output_type": "stream",
     "text": [
      "11.27\n",
      "2.0940391591371923\n",
      "10.75\n",
      "9.5\n",
      "12.75\n"
     ]
    }
   ],
   "source": [
    "# a\n",
    "\n",
    "print(hp[\"Wand.len\"].mean())\n",
    "print(hp[\"Wand.len\"].std())\n",
    "print(hp[\"Wand.len\"].median())\n",
    "\n",
    "print(hp[\"Wand.len\"].quantile(0.25))\n",
    "print(hp[\"Wand.len\"].quantile(0.75))"
   ]
  },
  {
   "cell_type": "markdown",
   "metadata": {},
   "source": [
    "**Дополнительно.** В метод `.quantile()` можно вписать несколько уровней квантилей сразу, но тогда их нужно оформить в список – добавить квадратные скобки:"
   ]
  },
  {
   "cell_type": "code",
   "execution_count": 8,
   "metadata": {},
   "outputs": [
    {
     "data": {
      "text/plain": [
       "0.25     9.50\n",
       "0.75    12.75\n",
       "Name: Wand.len, dtype: float64"
      ]
     },
     "execution_count": 8,
     "metadata": {},
     "output_type": "execute_result"
    }
   ],
   "source": [
    "hp[\"Wand.len\"].quantile([0.25, 0.75])"
   ]
  },
  {
   "cell_type": "code",
   "execution_count": 9,
   "metadata": {},
   "outputs": [
    {
     "data": {
      "text/plain": [
       "0.1     9.10\n",
       "0.2     9.50\n",
       "0.3    10.05\n",
       "0.4    10.25\n",
       "0.5    10.75\n",
       "Name: Wand.len, dtype: float64"
      ]
     },
     "execution_count": 9,
     "metadata": {},
     "output_type": "execute_result"
    }
   ],
   "source": [
    "# децили с 1-го по 5-ый\n",
    "hp[\"Wand.len\"].quantile([0.1, 0.2, 0.3, 0.4, 0.5])"
   ]
  },
  {
   "cell_type": "code",
   "execution_count": 10,
   "metadata": {},
   "outputs": [
    {
     "data": {
      "text/plain": [
       "Gryffindor                      38\n",
       "Slytherin                       28\n",
       "Ravenclaw                       18\n",
       "Hufflepuff                      13\n",
       "Beauxbatons Academy of Magic     3\n",
       "Durmstrang Institute             1\n",
       "Name: House, dtype: int64"
      ]
     },
     "execution_count": 10,
     "metadata": {},
     "output_type": "execute_result"
    }
   ],
   "source": [
    "# b: число героев с разных факультетов/из разных школ\n",
    "\n",
    "hp[\"House\"].value_counts()"
   ]
  },
  {
   "cell_type": "markdown",
   "metadata": {},
   "source": [
    "**Дополнительно.** Можем от абсолютных частот перейти к относительным – долям значений. Для этого «включаем» нормировку через аргумент `normalize = True`:"
   ]
  },
  {
   "cell_type": "code",
   "execution_count": 11,
   "metadata": {},
   "outputs": [
    {
     "data": {
      "text/plain": [
       "Gryffindor                      0.376238\n",
       "Slytherin                       0.277228\n",
       "Ravenclaw                       0.178218\n",
       "Hufflepuff                      0.128713\n",
       "Beauxbatons Academy of Magic    0.029703\n",
       "Durmstrang Institute            0.009901\n",
       "Name: House, dtype: float64"
      ]
     },
     "execution_count": 11,
     "metadata": {},
     "output_type": "execute_result"
    }
   ],
   "source": [
    "hp[\"House\"].value_counts(normalize = True)"
   ]
  },
  {
   "cell_type": "markdown",
   "metadata": {},
   "source": [
    "И еще можем добавить в выдачу пропущенные значения (`na` от *not applicable* или `NaN` от *not a number*), чтобы было видно, есть ли пропуски и сколько их. Для этого «выключаем» удаление пропусков из выдачи метода через аргумент `dropna = False`:"
   ]
  },
  {
   "cell_type": "code",
   "execution_count": 12,
   "metadata": {},
   "outputs": [
    {
     "data": {
      "text/plain": [
       "NaN                             0.278571\n",
       "Gryffindor                      0.271429\n",
       "Slytherin                       0.200000\n",
       "Ravenclaw                       0.128571\n",
       "Hufflepuff                      0.092857\n",
       "Beauxbatons Academy of Magic    0.021429\n",
       "Durmstrang Institute            0.007143\n",
       "Name: House, dtype: float64"
      ]
     },
     "execution_count": 12,
     "metadata": {},
     "output_type": "execute_result"
    }
   ],
   "source": [
    "hp[\"House\"].value_counts(normalize = True, dropna = False)"
   ]
  },
  {
   "cell_type": "markdown",
   "metadata": {},
   "source": [
    "Можем домножить столбец выше на 100 (как массив) и получить результаты в процентах:"
   ]
  },
  {
   "cell_type": "code",
   "execution_count": 13,
   "metadata": {},
   "outputs": [
    {
     "data": {
      "text/plain": [
       "NaN                             27.857143\n",
       "Gryffindor                      27.142857\n",
       "Slytherin                       20.000000\n",
       "Ravenclaw                       12.857143\n",
       "Hufflepuff                       9.285714\n",
       "Beauxbatons Academy of Magic     2.142857\n",
       "Durmstrang Institute             0.714286\n",
       "Name: House, dtype: float64"
      ]
     },
     "execution_count": 13,
     "metadata": {},
     "output_type": "execute_result"
    }
   ],
   "source": [
    "hp[\"House\"].value_counts(normalize = True, dropna = False) * 100"
   ]
  },
  {
   "cell_type": "markdown",
   "metadata": {},
   "source": [
    "### Задача 4\n",
    "\n",
    "Добавьте столбец `Alive` из 0 и 1, где 1 соответствует героям оставшимся в живых, 0 – иначе. \n",
    "\n",
    "*Подсказка:* вспомните, как мы получали массивы из 0 и 1 ранее."
   ]
  },
  {
   "cell_type": "code",
   "execution_count": 14,
   "metadata": {},
   "outputs": [
    {
     "data": {
      "text/html": [
       "<div>\n",
       "<style scoped>\n",
       "    .dataframe tbody tr th:only-of-type {\n",
       "        vertical-align: middle;\n",
       "    }\n",
       "\n",
       "    .dataframe tbody tr th {\n",
       "        vertical-align: top;\n",
       "    }\n",
       "\n",
       "    .dataframe thead th {\n",
       "        text-align: right;\n",
       "    }\n",
       "</style>\n",
       "<table border=\"1\" class=\"dataframe\">\n",
       "  <thead>\n",
       "    <tr style=\"text-align: right;\">\n",
       "      <th></th>\n",
       "      <th>Name</th>\n",
       "      <th>Gender</th>\n",
       "      <th>House</th>\n",
       "      <th>Wand</th>\n",
       "      <th>Wand.len</th>\n",
       "      <th>Skills</th>\n",
       "      <th>Birth.year</th>\n",
       "      <th>End.year</th>\n",
       "      <th>Age</th>\n",
       "      <th>Alive</th>\n",
       "    </tr>\n",
       "  </thead>\n",
       "  <tbody>\n",
       "    <tr>\n",
       "      <th>0</th>\n",
       "      <td>Harry James Potter</td>\n",
       "      <td>Male</td>\n",
       "      <td>Gryffindor</td>\n",
       "      <td>11\"  Holly  phoenix feather</td>\n",
       "      <td>11.00</td>\n",
       "      <td>Parseltongue| Defence Against the Dark Arts | ...</td>\n",
       "      <td>1980.0</td>\n",
       "      <td>2025</td>\n",
       "      <td>45.0</td>\n",
       "      <td>1</td>\n",
       "    </tr>\n",
       "    <tr>\n",
       "      <th>1</th>\n",
       "      <td>Ronald Bilius Weasley</td>\n",
       "      <td>Male</td>\n",
       "      <td>Gryffindor</td>\n",
       "      <td>12\" Ash unicorn tail hair</td>\n",
       "      <td>12.00</td>\n",
       "      <td>Wizard chess | Quidditch goalkeeping</td>\n",
       "      <td>1980.0</td>\n",
       "      <td>2025</td>\n",
       "      <td>45.0</td>\n",
       "      <td>1</td>\n",
       "    </tr>\n",
       "    <tr>\n",
       "      <th>2</th>\n",
       "      <td>Hermione Jean Granger</td>\n",
       "      <td>Female</td>\n",
       "      <td>Gryffindor</td>\n",
       "      <td>10¾\"  vine wood dragon heartstring</td>\n",
       "      <td>10.75</td>\n",
       "      <td>Almost everything</td>\n",
       "      <td>1979.0</td>\n",
       "      <td>2025</td>\n",
       "      <td>46.0</td>\n",
       "      <td>1</td>\n",
       "    </tr>\n",
       "    <tr>\n",
       "      <th>3</th>\n",
       "      <td>Albus Percival Wulfric Brian Dumbledore</td>\n",
       "      <td>Male</td>\n",
       "      <td>Gryffindor</td>\n",
       "      <td>15\" Elder Thestral tail hair core</td>\n",
       "      <td>15.00</td>\n",
       "      <td>Considered by many to be one of the most power...</td>\n",
       "      <td>1881.0</td>\n",
       "      <td>1997</td>\n",
       "      <td>116.0</td>\n",
       "      <td>0</td>\n",
       "    </tr>\n",
       "    <tr>\n",
       "      <th>4</th>\n",
       "      <td>Rubeus Hagrid</td>\n",
       "      <td>Male</td>\n",
       "      <td>Gryffindor</td>\n",
       "      <td>16\"  Oak unknown core</td>\n",
       "      <td>16.00</td>\n",
       "      <td>Resistant to stunning spells| above average st...</td>\n",
       "      <td>1928.0</td>\n",
       "      <td>2025</td>\n",
       "      <td>97.0</td>\n",
       "      <td>1</td>\n",
       "    </tr>\n",
       "    <tr>\n",
       "      <th>...</th>\n",
       "      <td>...</td>\n",
       "      <td>...</td>\n",
       "      <td>...</td>\n",
       "      <td>...</td>\n",
       "      <td>...</td>\n",
       "      <td>...</td>\n",
       "      <td>...</td>\n",
       "      <td>...</td>\n",
       "      <td>...</td>\n",
       "      <td>...</td>\n",
       "    </tr>\n",
       "    <tr>\n",
       "      <th>135</th>\n",
       "      <td>Wilhelmina Grubbly-Plank</td>\n",
       "      <td>Female</td>\n",
       "      <td>NaN</td>\n",
       "      <td>Unknown</td>\n",
       "      <td>NaN</td>\n",
       "      <td>NaN</td>\n",
       "      <td>NaN</td>\n",
       "      <td>2025</td>\n",
       "      <td>NaN</td>\n",
       "      <td>1</td>\n",
       "    </tr>\n",
       "    <tr>\n",
       "      <th>136</th>\n",
       "      <td>Fenrir Greyback</td>\n",
       "      <td>Male</td>\n",
       "      <td>NaN</td>\n",
       "      <td>Unknown</td>\n",
       "      <td>NaN</td>\n",
       "      <td>Physical combat</td>\n",
       "      <td>1945.0</td>\n",
       "      <td>2025</td>\n",
       "      <td>80.0</td>\n",
       "      <td>1</td>\n",
       "    </tr>\n",
       "    <tr>\n",
       "      <th>137</th>\n",
       "      <td>Gellert Grindelwald</td>\n",
       "      <td>Male</td>\n",
       "      <td>NaN</td>\n",
       "      <td>15\", Elder, Thestral tail hair core</td>\n",
       "      <td>15.00</td>\n",
       "      <td>Duelling</td>\n",
       "      <td>1883.0</td>\n",
       "      <td>1998</td>\n",
       "      <td>115.0</td>\n",
       "      <td>0</td>\n",
       "    </tr>\n",
       "    <tr>\n",
       "      <th>138</th>\n",
       "      <td>Dobby</td>\n",
       "      <td>Male</td>\n",
       "      <td>NaN</td>\n",
       "      <td>NaN</td>\n",
       "      <td>NaN</td>\n",
       "      <td>A type of magic specific to house-elves, perfo...</td>\n",
       "      <td>NaN</td>\n",
       "      <td>1998</td>\n",
       "      <td>NaN</td>\n",
       "      <td>0</td>\n",
       "    </tr>\n",
       "    <tr>\n",
       "      <th>139</th>\n",
       "      <td>Kreacher</td>\n",
       "      <td>Male</td>\n",
       "      <td>NaN</td>\n",
       "      <td>NaN</td>\n",
       "      <td>NaN</td>\n",
       "      <td>Magic performed without a wand which includes ...</td>\n",
       "      <td>NaN</td>\n",
       "      <td>2025</td>\n",
       "      <td>NaN</td>\n",
       "      <td>1</td>\n",
       "    </tr>\n",
       "  </tbody>\n",
       "</table>\n",
       "<p>140 rows × 10 columns</p>\n",
       "</div>"
      ],
      "text/plain": [
       "                                        Name  Gender       House  \\\n",
       "0                         Harry James Potter    Male  Gryffindor   \n",
       "1                      Ronald Bilius Weasley    Male  Gryffindor   \n",
       "2                      Hermione Jean Granger  Female  Gryffindor   \n",
       "3    Albus Percival Wulfric Brian Dumbledore    Male  Gryffindor   \n",
       "4                              Rubeus Hagrid    Male  Gryffindor   \n",
       "..                                       ...     ...         ...   \n",
       "135                 Wilhelmina Grubbly-Plank  Female         NaN   \n",
       "136                          Fenrir Greyback    Male         NaN   \n",
       "137                      Gellert Grindelwald    Male         NaN   \n",
       "138                                    Dobby    Male         NaN   \n",
       "139                                 Kreacher    Male         NaN   \n",
       "\n",
       "                                    Wand  Wand.len  \\\n",
       "0            11\"  Holly  phoenix feather     11.00   \n",
       "1             12\" Ash unicorn tail hair      12.00   \n",
       "2     10¾\"  vine wood dragon heartstring     10.75   \n",
       "3      15\" Elder Thestral tail hair core     15.00   \n",
       "4                  16\"  Oak unknown core     16.00   \n",
       "..                                   ...       ...   \n",
       "135                              Unknown       NaN   \n",
       "136                              Unknown       NaN   \n",
       "137  15\", Elder, Thestral tail hair core     15.00   \n",
       "138                                  NaN       NaN   \n",
       "139                                  NaN       NaN   \n",
       "\n",
       "                                                Skills  Birth.year  End.year  \\\n",
       "0    Parseltongue| Defence Against the Dark Arts | ...      1980.0      2025   \n",
       "1                 Wizard chess | Quidditch goalkeeping      1980.0      2025   \n",
       "2                                    Almost everything      1979.0      2025   \n",
       "3    Considered by many to be one of the most power...      1881.0      1997   \n",
       "4    Resistant to stunning spells| above average st...      1928.0      2025   \n",
       "..                                                 ...         ...       ...   \n",
       "135                                                NaN         NaN      2025   \n",
       "136                                    Physical combat      1945.0      2025   \n",
       "137                                           Duelling      1883.0      1998   \n",
       "138  A type of magic specific to house-elves, perfo...         NaN      1998   \n",
       "139  Magic performed without a wand which includes ...         NaN      2025   \n",
       "\n",
       "       Age  Alive  \n",
       "0     45.0      1  \n",
       "1     45.0      1  \n",
       "2     46.0      1  \n",
       "3    116.0      0  \n",
       "4     97.0      1  \n",
       "..     ...    ...  \n",
       "135    NaN      1  \n",
       "136   80.0      1  \n",
       "137  115.0      0  \n",
       "138    NaN      0  \n",
       "139    NaN      1  \n",
       "\n",
       "[140 rows x 10 columns]"
      ]
     },
     "execution_count": 14,
     "metadata": {},
     "output_type": "execute_result"
    }
   ],
   "source": [
    "hp[\"Alive\"] = (hp[\"End.year\"] == 2025).astype(int)\n",
    "hp"
   ]
  },
  {
   "cell_type": "markdown",
   "metadata": {},
   "source": [
    "### Задача 5\n",
    "\n",
    "Сохраните в датафрейм `hp_alive` строки, соответствующие выжившим героям, а в датафрейм `hp_dead` – строки, соответствующие погибшим героям. Вычислите число строк в каждом датафрейме."
   ]
  },
  {
   "cell_type": "code",
   "execution_count": null,
   "metadata": {},
   "outputs": [],
   "source": [
    "### YOUR CODE HERE ###"
   ]
  },
  {
   "cell_type": "markdown",
   "metadata": {},
   "source": [
    "### Задача 6\n",
    "\n",
    "Для героев, отобранных в датафрейм `df_alive`, определите границы *типичных значений* возраста."
   ]
  },
  {
   "cell_type": "code",
   "execution_count": null,
   "metadata": {},
   "outputs": [],
   "source": [
    "### YOUR CODE HERE ###"
   ]
  },
  {
   "cell_type": "markdown",
   "metadata": {},
   "source": [
    "### Задача 7\n",
    "\n",
    "Выберите из `df_alive` строки, которые соответствуют героям с нетипично высоким или нетипично низким значением возраста."
   ]
  },
  {
   "cell_type": "code",
   "execution_count": null,
   "metadata": {},
   "outputs": [],
   "source": [
    "### YOUR CODE HERE ###"
   ]
  }
 ],
 "metadata": {
  "kernelspec": {
   "display_name": "Python 3",
   "language": "python",
   "name": "python3"
  },
  "language_info": {
   "codemirror_mode": {
    "name": "ipython",
    "version": 3
   },
   "file_extension": ".py",
   "mimetype": "text/x-python",
   "name": "python",
   "nbconvert_exporter": "python",
   "pygments_lexer": "ipython3",
   "version": "3.7.4"
  }
 },
 "nbformat": 4,
 "nbformat_minor": 2
}
