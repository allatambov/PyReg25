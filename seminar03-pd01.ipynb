{
 "cells": [
  {
   "cell_type": "markdown",
   "metadata": {},
   "source": [
    "# Введение в регрессионный анализ: интенсив по Python\n",
    "\n",
    "*Алла Тамбовцева*\n",
    "\n",
    "## Семинар 3. Операции с датафреймами Pandas: часть 1"
   ]
  },
  {
   "cell_type": "markdown",
   "metadata": {},
   "source": [
    "### Задача 1\n",
    "\n",
    "Загрузите данные из [файла](https://github.com/allatambov/PyReg25/blob/main/hp25.csv) `hp25.csv`, предварительно скачав его на компьютер и поместив в рабочую папку Jupyter Notebook (или Google Colab) через *Upload*, и сохраните их в датафрейм `hp`.\n",
    "\n",
    "Запросите описательные статистики по всем а) числовым столбцам; б) текстовым столбцам."
   ]
  },
  {
   "cell_type": "code",
   "execution_count": null,
   "metadata": {},
   "outputs": [],
   "source": [
    "### YOUR CODE HERE ###"
   ]
  },
  {
   "cell_type": "markdown",
   "metadata": {},
   "source": [
    "### Задача 2\n",
    "\n",
    "Выведите описательные статистики отдельно для столбца `Wand.len` и столбца `House`. \n",
    "\n",
    "*Подсказка:* для выбора столбца впишите его название в квадратные скобки после названия датафрейма."
   ]
  },
  {
   "cell_type": "code",
   "execution_count": null,
   "metadata": {},
   "outputs": [],
   "source": [
    "### YOUR CODE HERE ###"
   ]
  },
  {
   "cell_type": "markdown",
   "metadata": {},
   "source": [
    "### Задача 3\n",
    "\n",
    "a. Для столбца `Wand.len` вычислите среднее, стандартное отклонение, медиану, нижний и верхний квартиль. \n",
    "\n",
    "b. Для столбца `House` выведите таблицу частот (сколько раз встречается каждое название факультета/школы).\n",
    "\n",
    "*Подсказка:* методы `.mean()`, `.std()`, `.median()`, `.quantile()`, а также метод `.value_counts()`."
   ]
  },
  {
   "cell_type": "code",
   "execution_count": null,
   "metadata": {},
   "outputs": [],
   "source": [
    "### YOUR CODE HERE ###"
   ]
  },
  {
   "cell_type": "markdown",
   "metadata": {},
   "source": [
    "### Задача 4\n",
    "\n",
    "Добавьте столбец `Alive` из 0 и 1, где 1 соответствует героям оставшимся в живых, 0 – иначе. \n",
    "\n",
    "*Подсказка:* вспомните, как мы получали массивы из 0 и 1 ранее."
   ]
  },
  {
   "cell_type": "code",
   "execution_count": null,
   "metadata": {},
   "outputs": [],
   "source": [
    "### YOUR CODE HERE ###"
   ]
  },
  {
   "cell_type": "markdown",
   "metadata": {},
   "source": [
    "### Задача 5\n",
    "\n",
    "Сохраните в датафрейм `hp_alive` строки, соответствующие выжившим героям, а в датафрейм `hp_dead` – строки, соответствующие погибшим героям. Вычислите число строк в каждом датафрейме."
   ]
  },
  {
   "cell_type": "code",
   "execution_count": null,
   "metadata": {},
   "outputs": [],
   "source": [
    "### YOUR CODE HERE ###"
   ]
  },
  {
   "cell_type": "markdown",
   "metadata": {},
   "source": [
    "### Задача 6\n",
    "\n",
    "Для героев, отобранных в датафрейм `hp_alive`, определите границы *типичных значений* возраста."
   ]
  },
  {
   "cell_type": "code",
   "execution_count": null,
   "metadata": {},
   "outputs": [],
   "source": [
    "### YOUR CODE HERE ###"
   ]
  },
  {
   "cell_type": "markdown",
   "metadata": {},
   "source": [
    "### Задача 7\n",
    "\n",
    "Выберите из `hp_alive` строки, которые соответствуют героям с нетипично высоким или нетипично низким значением возраста."
   ]
  },
  {
   "cell_type": "code",
   "execution_count": null,
   "metadata": {},
   "outputs": [],
   "source": [
    "### YOUR CODE HERE ###"
   ]
  }
 ],
 "metadata": {
  "kernelspec": {
   "display_name": "Python 3",
   "language": "python",
   "name": "python3"
  },
  "language_info": {
   "codemirror_mode": {
    "name": "ipython",
    "version": 3
   },
   "file_extension": ".py",
   "mimetype": "text/x-python",
   "name": "python",
   "nbconvert_exporter": "python",
   "pygments_lexer": "ipython3",
   "version": "3.7.4"
  }
 },
 "nbformat": 4,
 "nbformat_minor": 2
}
