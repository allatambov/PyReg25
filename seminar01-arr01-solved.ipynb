{
 "cells": [
  {
   "cell_type": "markdown",
   "metadata": {},
   "source": [
    "# Введение в регрессионный анализ: интенсив по Python\n",
    "\n",
    "*Алла Тамбовцева*\n",
    "\n",
    "## Семинар 1. Работа с массивами NumPy: часть 1"
   ]
  },
  {
   "cell_type": "markdown",
   "metadata": {},
   "source": [
    "### Задача 0\n",
    "\n",
    "Импортируйте библиотеку `numpy` и создайте следующие массивы:\n",
    "\n",
    "* массив `numbers` из следующих значений: 3, -1, 7, 8, 10, 11, 2, 7, 5;\n",
    "* массив `scores` из следующих значений: 10, 8.5, 7.8, 9, 9.2, 6.7;\n",
    "* массив `names` из следующих значений: Алёна, Борис, Василий, Георгий, Даниил;\n",
    "* массив `column` из следующих значений: 1, 2, 3, 4, 5, id6.\n",
    "\n",
    "Выведите массивы на экран с помощью функции `print()`. Проверьте их типы, дописав после названия атрибут `.dtype` (от *data type*)."
   ]
  },
  {
   "cell_type": "code",
   "execution_count": 1,
   "metadata": {},
   "outputs": [],
   "source": [
    "import numpy as np"
   ]
  },
  {
   "cell_type": "code",
   "execution_count": 2,
   "metadata": {},
   "outputs": [],
   "source": [
    "numbers = np.array([3, -1, 7, 8, 10, 11, 2, 7, 5])\n",
    "scores = np.array([10, 8.5, 7.8, 9, 9.2, 6.7])\n",
    "names = np.array([\"Алёна\", \"Борис\", \"Василий\", \"Георгий\", \"Даниил\"])\n",
    "column = np.array([1, 2, 3, 4, 5, 'id6'])"
   ]
  },
  {
   "cell_type": "code",
   "execution_count": 3,
   "metadata": {},
   "outputs": [
    {
     "name": "stdout",
     "output_type": "stream",
     "text": [
      "[ 3 -1  7  8 10 11  2  7  5] int64\n",
      "[10.   8.5  7.8  9.   9.2  6.7] float64\n",
      "['Алёна' 'Борис' 'Василий' 'Георгий' 'Даниил'] <U7\n",
      "['1' '2' '3' '4' '5' 'id6'] <U21\n"
     ]
    }
   ],
   "source": [
    "print(numbers, numbers.dtype)\n",
    "print(scores, scores.dtype)\n",
    "print(names, names.dtype)\n",
    "print(column, column.dtype)"
   ]
  },
  {
   "cell_type": "markdown",
   "metadata": {},
   "source": [
    "### Задача 1\n",
    "\n",
    "a. Ниже приведен массив `dollars` с ценами на товары в долларах. Создайте массив `rubles` с ценами на те же товары в рублях, ориентируясь на курс 1 доллар = 81.3 рубля."
   ]
  },
  {
   "cell_type": "code",
   "execution_count": 4,
   "metadata": {},
   "outputs": [],
   "source": [
    "dollars = np.array([23, 45, 76, 12, 18, 180, 74, 135,\n",
    "                    56, 34, 70, 80, 138, 144, 16, 48,\n",
    "                    200, 400, 55, 27, 19, 36, 48, 230])"
   ]
  },
  {
   "cell_type": "code",
   "execution_count": 5,
   "metadata": {},
   "outputs": [
    {
     "name": "stdout",
     "output_type": "stream",
     "text": [
      "[ 1869.9  3658.5  6178.8   975.6  1463.4 14634.   6016.2 10975.5  4552.8\n",
      "  2764.2  5691.   6504.  11219.4 11707.2  1300.8  3902.4 16260.  32520.\n",
      "  4471.5  2195.1  1544.7  2926.8  3902.4 18699. ]\n"
     ]
    }
   ],
   "source": [
    "rubles = dollars * 81.3\n",
    "print(rubles)"
   ]
  },
  {
   "cell_type": "markdown",
   "metadata": {},
   "source": [
    "b. Ниже приведен массив `temp_f` со значениями температуры воздуха в градусах по Фаренгейту. Создайте массив `temp_c` со значениями температуры воздуха в градусах по Цельсию, считая, что\n",
    "\n",
    "$$\n",
    "t_C = \\frac{5}{9}(t_F - 32).\n",
    "$$"
   ]
  },
  {
   "cell_type": "code",
   "execution_count": 6,
   "metadata": {},
   "outputs": [],
   "source": [
    "temp_f = np.array([-40, -20, 25, 30, 42, 100, 150, 451])"
   ]
  },
  {
   "cell_type": "code",
   "execution_count": 7,
   "metadata": {},
   "outputs": [
    {
     "name": "stdout",
     "output_type": "stream",
     "text": [
      "[-40.         -28.88888889  -3.88888889  -1.11111111   5.55555556\n",
      "  37.77777778  65.55555556 232.77777778]\n"
     ]
    }
   ],
   "source": [
    "temp_c = (5 / 9) * (temp_f - 32)\n",
    "print(temp_c)"
   ]
  },
  {
   "cell_type": "markdown",
   "metadata": {},
   "source": [
    "### Задача 2\n",
    "\n",
    "В массивах `problem01` и `problem02` сохранены баллы, полученные студентами в самостоятельной работе из двух заданий. \n",
    "\n",
    "a. Создайте массив `smr` с баллами, полученными за самостоятельную работу.\n",
    "\n",
    "b. Создайте массив `grades` с оценками за работу в 10-балльной шкале (но без округления), считая, что оценки получаются делением на максимально возможный балл 20."
   ]
  },
  {
   "cell_type": "code",
   "execution_count": 8,
   "metadata": {},
   "outputs": [],
   "source": [
    "problem01 = np.array([10, 2, 8, 6, 6, 4, 4, 8, 10, 10])\n",
    "problem02 = np.array([8, 4, 2, 4, 4, 2, 2, 6, 8, 10])"
   ]
  },
  {
   "cell_type": "code",
   "execution_count": 9,
   "metadata": {},
   "outputs": [
    {
     "name": "stdout",
     "output_type": "stream",
     "text": [
      "[18  6 10 10 10  6  6 14 18 20]\n"
     ]
    }
   ],
   "source": [
    "smr = problem01 + problem02\n",
    "print(smr)"
   ]
  },
  {
   "cell_type": "code",
   "execution_count": 10,
   "metadata": {},
   "outputs": [
    {
     "name": "stdout",
     "output_type": "stream",
     "text": [
      "[ 9.  3.  5.  5.  5.  3.  3.  7.  9. 10.]\n"
     ]
    }
   ],
   "source": [
    "grades = smr / 20 * 10\n",
    "print(grades)"
   ]
  },
  {
   "cell_type": "markdown",
   "metadata": {},
   "source": [
    "### Задача 3\n",
    "\n",
    "В трех массивах сохранены статистические данные по одним и тем же избирательным участкам:\n",
    "\n",
    "* `valid` – количество действительных бюллетеней;\n",
    "* `invalid` –  количество недействительных бюллетеней;\n",
    "* `total` – общее количество зарегистрированных избирателей.\n",
    "\n",
    "Получите массив `turnout` с явкой на этих избирательных участках (в голосах) и массив `turnout_perc` с явкой (в процентах)."
   ]
  },
  {
   "cell_type": "code",
   "execution_count": 11,
   "metadata": {},
   "outputs": [],
   "source": [
    "valid = np.array([125, 132, 140, 164, 148, 190, 23, 140, 78, 20])\n",
    "invalid = np.array([2, 5, 1, 4, 0, 10, 0, 3, 2, 0])\n",
    "total = np.array([262, 310, 253, 440, 528, 367, 23, 314, 142, 22])"
   ]
  },
  {
   "cell_type": "code",
   "execution_count": 12,
   "metadata": {},
   "outputs": [
    {
     "name": "stdout",
     "output_type": "stream",
     "text": [
      "[127 137 141 168 148 200  23 143  80  20]\n",
      "[ 48.47328244  44.19354839  55.7312253   38.18181818  28.03030303\n",
      "  54.49591281 100.          45.54140127  56.33802817  90.90909091]\n"
     ]
    }
   ],
   "source": [
    "turnout = valid + invalid\n",
    "turnout_perc = turnout / total * 100\n",
    "print(turnout)\n",
    "print(turnout_perc)"
   ]
  },
  {
   "cell_type": "markdown",
   "metadata": {},
   "source": [
    "### Задача 4\n",
    "\n",
    "В массиве `x` сохранены значения дискретной случайной величины $X$, в массиве `p` – соответствующие им вероятности. \n",
    "\n",
    "a. Вычисление математическое ожидание $E(X) = x_1p_1 + x_2p_2 + \\dots + x_np_n$.\n",
    "\n",
    "b. Вычислите дисперсию $D(X) = E(X^2) - E(X)^2$."
   ]
  },
  {
   "cell_type": "code",
   "execution_count": 13,
   "metadata": {},
   "outputs": [],
   "source": [
    "x = np.array([-10, 0, 1, 2, 8, 10, 20])\n",
    "p = np.array([0.05, 0.05, 0.1, 0.15, 0.3, 0.1, 0.25])"
   ]
  },
  {
   "cell_type": "code",
   "execution_count": 14,
   "metadata": {},
   "outputs": [],
   "source": [
    "ex = sum(x * p)"
   ]
  },
  {
   "cell_type": "code",
   "execution_count": 15,
   "metadata": {},
   "outputs": [],
   "source": [
    "dx = sum(x ** 2 * p) - ex ** 2"
   ]
  },
  {
   "cell_type": "code",
   "execution_count": 16,
   "metadata": {},
   "outputs": [
    {
     "name": "stdout",
     "output_type": "stream",
     "text": [
      "E(X) = 8.3 D(X) = 66.00999999999999\n"
     ]
    }
   ],
   "source": [
    "print(\"E(X) =\", ex, \"D(X) =\", dx)"
   ]
  },
  {
   "cell_type": "markdown",
   "metadata": {},
   "source": [
    "### Задача 5\n",
    "\n",
    "В массиве `female` сохранены значения возраста респондентов женского пола. Вычислите число и долю респондентов, которые:\n",
    "\n",
    "* являются несовершеннолетними, то есть моложе 18 лет;\n",
    "* достигли возраста 50 лет (от 50 и старше)."
   ]
  },
  {
   "cell_type": "code",
   "execution_count": 17,
   "metadata": {},
   "outputs": [],
   "source": [
    "female = np.array([18, 18, 19, 23, 25, 32, 36, 56, 60, \n",
    "                   66, 28, 30, 27, 31, 65, 48, 33, 17,\n",
    "                   45, 16, 18, 19, 21, 28, 29, 47, 52,\n",
    "                   63, 57, 22, 17, 28, 21, 36, 33, 40])"
   ]
  },
  {
   "cell_type": "code",
   "execution_count": 18,
   "metadata": {},
   "outputs": [
    {
     "name": "stdout",
     "output_type": "stream",
     "text": [
      "3 0.08333333333333333\n"
     ]
    }
   ],
   "source": [
    "k = sum(female < 18)\n",
    "n = len(female)\n",
    "p1 = k / n\n",
    "print(k, p1)"
   ]
  },
  {
   "cell_type": "code",
   "execution_count": 19,
   "metadata": {},
   "outputs": [
    {
     "name": "stdout",
     "output_type": "stream",
     "text": [
      "7 0.19444444444444445\n"
     ]
    }
   ],
   "source": [
    "m = sum(female >= 50)\n",
    "p2 = m / n\n",
    "print(m, p2)"
   ]
  },
  {
   "cell_type": "markdown",
   "metadata": {},
   "source": [
    "### Задача 6\n",
    "\n",
    "В задачнике по теории вероятностей когда-то была задача про Алису, которая встает утром то с правой, то с левой ноги. В массиве `experiment` зафиксированы результаты 30-дневного наблюдения за Алисой:"
   ]
  },
  {
   "cell_type": "code",
   "execution_count": 20,
   "metadata": {},
   "outputs": [],
   "source": [
    "experiment = np.array([\"right\", \"left\", \"right\", \"right\", \"left\", \n",
    "                      \"left\", \"left\", \"right\", \"left\", \"right\", \n",
    "                      \"right\", \"right\", \"right\", \"right\", \"left\",\n",
    "                      \"left\", \"left\", \"right\", \"left\", \"right\",\n",
    "                      \"right\", \"right\", \"right\", \"right\", \"right\",\n",
    "                      \"left\", \"left\", \"right\", \"right\", \"right\"])"
   ]
  },
  {
   "cell_type": "markdown",
   "metadata": {},
   "source": [
    "Вычислите процент дней, когда Алиса вставала а) с правой ноги; б) с левой ноги."
   ]
  },
  {
   "cell_type": "code",
   "execution_count": 21,
   "metadata": {},
   "outputs": [
    {
     "name": "stdout",
     "output_type": "stream",
     "text": [
      "63.33333333333333 36.666666666666664\n"
     ]
    }
   ],
   "source": [
    "N = len(experiment)\n",
    "perc1 = sum(experiment == \"right\") / N * 100\n",
    "perc2 = sum(experiment == \"left\") / N * 100\n",
    "print(perc1, perc2)"
   ]
  }
 ],
 "metadata": {
  "kernelspec": {
   "display_name": "Python 3",
   "language": "python",
   "name": "python3"
  },
  "language_info": {
   "codemirror_mode": {
    "name": "ipython",
    "version": 3
   },
   "file_extension": ".py",
   "mimetype": "text/x-python",
   "name": "python",
   "nbconvert_exporter": "python",
   "pygments_lexer": "ipython3",
   "version": "3.7.4"
  }
 },
 "nbformat": 4,
 "nbformat_minor": 2
}
