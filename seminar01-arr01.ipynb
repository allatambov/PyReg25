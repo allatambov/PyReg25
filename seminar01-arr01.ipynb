{
 "cells": [
  {
   "cell_type": "markdown",
   "metadata": {},
   "source": [
    "# Введение в регрессионный анализ: интенсив по Python\n",
    "\n",
    "*Алла Тамбовцева*\n",
    "\n",
    "## Семинар 1. Работа с массивами NumPy: часть 1"
   ]
  },
  {
   "cell_type": "markdown",
   "metadata": {},
   "source": [
    "### Задача 0\n",
    "\n",
    "Импортируйте библиотеку `numpy` и создайте следующие массивы:\n",
    "\n",
    "* массив `numbers` из следующих значений: 3, -1, 7, 8, 10, 11, 2, 7, 5;\n",
    "* массив `scores` из следующих значений: 10, 8.5, 7.8, 9, 9.2, 6.7;\n",
    "* массив `names` из следующих значений: Алёна, Борис, Василий, Георгий, Даниил;\n",
    "* массив `column` из следующих значений: 1, 2, 3, 4, 5, id6.\n",
    "\n",
    "Выведите массивы на экран с помощью функции `print()`. Проверьте их типы, дописав после названия атрибут `.dtype` (от *data type*)."
   ]
  },
  {
   "cell_type": "code",
   "execution_count": null,
   "metadata": {},
   "outputs": [],
   "source": [
    "### YOUR CODE HERE ###"
   ]
  },
  {
   "cell_type": "markdown",
   "metadata": {},
   "source": [
    "### Задача 1\n",
    "\n",
    "a. Ниже приведен массив `dollars` с ценами на товары в долларах. Создайте массив `rubles` с ценами на те же товары в рублях, ориентируясь на курс 1 доллар = 81.3 рубля."
   ]
  },
  {
   "cell_type": "code",
   "execution_count": null,
   "metadata": {},
   "outputs": [],
   "source": [
    "dollars = np.array([23, 45, 76, 12, 18, 180, 74, 135,\n",
    "                    56, 34, 70, 80, 138, 144, 16, 48,\n",
    "                    200, 400, 55, 27, 19, 36, 48, 230])"
   ]
  },
  {
   "cell_type": "code",
   "execution_count": null,
   "metadata": {},
   "outputs": [],
   "source": [
    "### YOUR CODE HERE ###"
   ]
  },
  {
   "cell_type": "markdown",
   "metadata": {},
   "source": [
    "b. Ниже приведен массив `temp_f` со значениями температуры воздуха в градусах по Фаренгейту. Создайте массив `temp_c` со значениями температуры воздуха в градусах по Цельсию, считая, что\n",
    "\n",
    "$$\n",
    "t_C = \\frac{5}{9}(t_F - 32).\n",
    "$$"
   ]
  },
  {
   "cell_type": "code",
   "execution_count": null,
   "metadata": {},
   "outputs": [],
   "source": [
    "temp_f = np.array([-40, -20, 25, 30, 42, 100, 150, 451])"
   ]
  },
  {
   "cell_type": "code",
   "execution_count": null,
   "metadata": {},
   "outputs": [],
   "source": [
    "### YOUR CODE HERE ###"
   ]
  },
  {
   "cell_type": "markdown",
   "metadata": {},
   "source": [
    "### Задача 2\n",
    "\n",
    "В массивах `problem01` и `problem02` сохранены баллы, полученные студентами в самостоятельной работе из двух заданий. \n",
    "\n",
    "a. Создайте массив `smr` с баллами, полученными за самостоятельную работу.\n",
    "\n",
    "b. Создайте массив `grades` с оценками за работу в 10-балльной шкале (но без округления), считая, что оценки получаются делением на максимально возможный балл 20."
   ]
  },
  {
   "cell_type": "code",
   "execution_count": null,
   "metadata": {},
   "outputs": [],
   "source": [
    "problem01 = np.array([10, 2, 8, 6, 6, 4, 4, 8, 10, 10])\n",
    "problem02 = np.array([8, 4, 2, 4, 4, 2, 2, 6, 8, 10])"
   ]
  },
  {
   "cell_type": "code",
   "execution_count": null,
   "metadata": {},
   "outputs": [],
   "source": [
    "### YOUR CODE HERE ###"
   ]
  },
  {
   "cell_type": "markdown",
   "metadata": {},
   "source": [
    "### Задача 3\n",
    "\n",
    "В трех массивах сохранены статистические данные по одним и тем же избирательным участкам:\n",
    "\n",
    "* `valid` – количество действительных бюллетеней;\n",
    "* `invalid` –  количество недействительных бюллетеней;\n",
    "* `total` – общее количество зарегистрированных избирателей.\n",
    "\n",
    "Получите массив `turnout` с явкой на этих избирательных участках (в голосах) и массив `turnout_perc` с явкой (в процентах)."
   ]
  },
  {
   "cell_type": "code",
   "execution_count": null,
   "metadata": {},
   "outputs": [],
   "source": [
    "valid = np.array([125, 132, 140, 164, 148, 190, 23, 140, 78, 20])\n",
    "invalid = np.array([2, 5, 1, 4, 0, 10, 0, 3, 2, 0])\n",
    "total = np.array([262, 310, 253, 440, 528, 367, 23, 314, 142, 22])"
   ]
  },
  {
   "cell_type": "code",
   "execution_count": null,
   "metadata": {},
   "outputs": [],
   "source": [
    "### YOUR CODE HERE ###"
   ]
  },
  {
   "cell_type": "markdown",
   "metadata": {},
   "source": [
    "### Задача 4\n",
    "\n",
    "В массиве `x` сохранены значения дискретной случайной величины $X$, в массиве `p` – соответствующие им вероятности. \n",
    "\n",
    "a. Вычисление математическое ожидание $E(X) = x_1p_1 + x_2p_2 + \\dots + x_np_n$.\n",
    "\n",
    "b. Вычислите дисперсию $D(X) = E(X^2) - E(X)^2$."
   ]
  },
  {
   "cell_type": "code",
   "execution_count": null,
   "metadata": {},
   "outputs": [],
   "source": [
    "x = np.array([-10, 0, 1, 2, 8, 10, 20])\n",
    "p = np.array([0.05, 0.05, 0.1, 0.15, 0.3, 0.1, 0.25])"
   ]
  },
  {
   "cell_type": "code",
   "execution_count": null,
   "metadata": {},
   "outputs": [],
   "source": [
    "### YOUR CODE HERE ###"
   ]
  },
  {
   "cell_type": "markdown",
   "metadata": {},
   "source": [
    "### Задача 5\n",
    "\n",
    "В массиве `female` сохранены значения возраста респондентов женского пола. Вычислите число и долю респондентов, которые:\n",
    "\n",
    "* являются несовершеннолетними, то есть моложе 18 лет;\n",
    "* достигли возраста 50 лет (от 50 и старше)."
   ]
  },
  {
   "cell_type": "code",
   "execution_count": null,
   "metadata": {},
   "outputs": [],
   "source": [
    "female = np.array([18, 18, 19, 23, 25, 32, 36, 56, 60, \n",
    "                   66, 28, 30, 27, 31, 65, 48, 33, 17,\n",
    "                   45, 16, 18, 19, 21, 28, 29, 47, 52,\n",
    "                   63, 57, 22, 17, 28, 21, 36, 33, 40])"
   ]
  },
  {
   "cell_type": "code",
   "execution_count": null,
   "metadata": {},
   "outputs": [],
   "source": [
    "### YOUR CODE HERE ###"
   ]
  },
  {
   "cell_type": "markdown",
   "metadata": {},
   "source": [
    "### Задача 6\n",
    "\n",
    "В задачнике по теории вероятностей когда-то была задача про Алису, которая встает утром то с правой, то с левой ноги. В массиве `experiment` зафиксированы результаты 30-дневного наблюдения за Алисой:"
   ]
  },
  {
   "cell_type": "code",
   "execution_count": null,
   "metadata": {},
   "outputs": [],
   "source": [
    "experiment = np.array([\"right\", \"left\", \"right\", \"right\", \"left\", \n",
    "                      \"left\", \"left\", \"right\", \"left\", \"right\", \n",
    "                      \"right\", \"right\", \"right\", \"right\", \"left\",\n",
    "                      \"left\", \"left\", \"right\", \"left\", \"right\",\n",
    "                      \"right\", \"right\", \"right\", \"right\", \"right\",\n",
    "                      \"left\", \"left\", \"right\", \"right\", \"right\"])"
   ]
  },
  {
   "cell_type": "markdown",
   "metadata": {},
   "source": [
    "Вычислите процент дней, когда Алиса вставала а) с правой ноги; б) с левой ноги."
   ]
  },
  {
   "cell_type": "code",
   "execution_count": null,
   "metadata": {},
   "outputs": [],
   "source": [
    "### YOUR CODE HERE ###"
   ]
  }
 ],
 "metadata": {
  "kernelspec": {
   "display_name": "Python 3",
   "language": "python",
   "name": "python3"
  },
  "language_info": {
   "codemirror_mode": {
    "name": "ipython",
    "version": 3
   },
   "file_extension": ".py",
   "mimetype": "text/x-python",
   "name": "python",
   "nbconvert_exporter": "python",
   "pygments_lexer": "ipython3",
   "version": "3.7.4"
  }
 },
 "nbformat": 4,
 "nbformat_minor": 2
}
