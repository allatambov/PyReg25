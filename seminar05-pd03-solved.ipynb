{
 "cells": [
  {
   "cell_type": "markdown",
   "metadata": {},
   "source": [
    "# Введение в регрессионный анализ: интенсив по Python\n",
    "\n",
    "*Алла Тамбовцева*\n",
    "\n",
    "## Семинар 5. Операции с датафреймами Pandas: часть 3"
   ]
  },
  {
   "cell_type": "code",
   "execution_count": 1,
   "metadata": {},
   "outputs": [],
   "source": [
    "import pandas as pd"
   ]
  },
  {
   "cell_type": "markdown",
   "metadata": {},
   "source": [
    "В файле `выборы_ЦФО.csv` (скачать [здесь](https://github.com/allatambov/PyReg25/blob/main/%D0%B2%D1%8B%D0%B1%D0%BE%D1%80%D1%8B_%D0%A6%D0%A4%D0%9E.csv)) сохранены результаты выборов в Государственную Думу 8 созыва 2021 года в Центральном федеральном округе в разрезе территориальных избирательных комиссий (одна строка – одна комиссия). Переменные в файле:\n",
    "\n",
    "* `region`: название региона;\n",
    "* `tik`: название ТИК;\n",
    "* `invalid`: число недействительных бюллетеней;\n",
    "* `valid`: число действительных бюллетеней;\n",
    "\n",
    "Далее – столбцы с числом голосов за партии:\n",
    "\n",
    "* `КПРФ`: политическая партия \"КОММУНИСТИЧЕСКАЯ ПАРТИЯ РОССИЙСКОЙ ФЕДЕРАЦИИ\";\n",
    "* `ЗЕЛЕНЫЕ`: политическая партия \"Российская экологическая партия \"ЗЕЛЁНЫЕ\";\n",
    "* `ЛДПР`: политическая партия ЛДПР – Либерально-демократическая партия России;\n",
    "* `НЛ`: политическая партия \"НОВЫЕ ЛЮДИ\";\n",
    "* `ЕР`: всероссийская политическая партия \"ЕДИНАЯ РОССИЯ\";\n",
    "* `СР`: партия СПРАВЕДЛИВАЯ РОССИЯ – ЗА ПРАВДУ;\n",
    "* `ЯБЛОКО`: политическая партия \"Российская объединенная демократическая партия \"ЯБЛОКО\";\n",
    "* `ПР`: всероссийская политическая партия \"ПАРТИЯ РОСТА\";\n",
    "* `РПСС`: политическая партия РОССИЙСКАЯ ПАРТИЯ СВОБОДЫ И СПРАВЕДЛИВОСТИ;\n",
    "* `КР`: политическая партия КОММУНИСТИЧЕСКАЯ ПАРТИЯ КОММУНИСТЫ РОССИИ;\n",
    "* `ГП`: политическая партия \"Гражданская Платформа\";\n",
    "* `ЗА`: политическая партия ЗЕЛЕНАЯ АЛЬТЕРНАТИВА;\n",
    "* `РОДИНА`: \"ВСЕРОССИЙСКАЯ ПОЛИТИЧЕСКАЯ ПАРТИЯ \"РОДИНА\"."
   ]
  },
  {
   "cell_type": "markdown",
   "metadata": {},
   "source": [
    "Загрузите данные из файла и сохраните их в датафрейм `regs`."
   ]
  },
  {
   "cell_type": "code",
   "execution_count": 2,
   "metadata": {},
   "outputs": [],
   "source": [
    "regs = pd.read_csv(\"выборы_ЦФО.csv\")"
   ]
  },
  {
   "cell_type": "markdown",
   "metadata": {},
   "source": [
    "### Задача 1\n",
    "\n",
    "Выведите «техническую» информацию о датафрейме: число строк и столбцов, типы столбцов и количество заполненных ячеек."
   ]
  },
  {
   "cell_type": "code",
   "execution_count": 3,
   "metadata": {},
   "outputs": [
    {
     "name": "stdout",
     "output_type": "stream",
     "text": [
      "<class 'pandas.core.frame.DataFrame'>\n",
      "RangeIndex: 694 entries, 0 to 693\n",
      "Data columns (total 17 columns):\n",
      " #   Column   Non-Null Count  Dtype \n",
      "---  ------   --------------  ----- \n",
      " 0   region   694 non-null    object\n",
      " 1   tik      694 non-null    object\n",
      " 2   invalid  694 non-null    int64 \n",
      " 3   valid    694 non-null    int64 \n",
      " 4   КПРФ     694 non-null    int64 \n",
      " 5   ЗЕЛЕНЫЕ  694 non-null    int64 \n",
      " 6   ЛДПР     694 non-null    int64 \n",
      " 7   НЛ       694 non-null    int64 \n",
      " 8   ЕР       694 non-null    int64 \n",
      " 9   СР       694 non-null    int64 \n",
      " 10  ЯБЛОКО   694 non-null    int64 \n",
      " 11  ПР       694 non-null    int64 \n",
      " 12  РПСС     694 non-null    int64 \n",
      " 13  КР       694 non-null    int64 \n",
      " 14  ГП       694 non-null    int64 \n",
      " 15  ЗА       694 non-null    int64 \n",
      " 16  РОДИНА   694 non-null    int64 \n",
      "dtypes: int64(15), object(2)\n",
      "memory usage: 92.3+ KB\n"
     ]
    }
   ],
   "source": [
    "regs.info()"
   ]
  },
  {
   "cell_type": "markdown",
   "metadata": {},
   "source": [
    "### Задача 2\n",
    "\n",
    "Добавьте в датафрейм `regs` столбец `turnout` со значениями явки (сумма действительных и недействительных бюллетеней). Выведите максимальное значение по этому столбцу."
   ]
  },
  {
   "cell_type": "code",
   "execution_count": 4,
   "metadata": {},
   "outputs": [
    {
     "name": "stdout",
     "output_type": "stream",
     "text": [
      "196055\n"
     ]
    }
   ],
   "source": [
    "regs[\"turnout\"] = regs[\"valid\"] + regs[\"invalid\"]\n",
    "print(regs[\"turnout\"].max())"
   ]
  },
  {
   "cell_type": "markdown",
   "metadata": {},
   "source": [
    "### Задача 3\n",
    "\n",
    "Добавьте в датафрейм `regs` столбцы `ЕР%` и `КПРФ%` с процентами голосов за эти партии (число голосов делится на явку и домножается на 100, без округления). Выведите описательные статистики по этим столбцам. Чему равны минимальные значения процентов в каждом столбце?"
   ]
  },
  {
   "cell_type": "code",
   "execution_count": 5,
   "metadata": {},
   "outputs": [
    {
     "name": "stdout",
     "output_type": "stream",
     "text": [
      "count    694.000000\n",
      "mean      43.971845\n",
      "std       14.667098\n",
      "min       20.973752\n",
      "25%       32.166219\n",
      "50%       40.374436\n",
      "75%       52.904177\n",
      "max       88.516841\n",
      "Name: ЕР%, dtype: float64\n",
      "count    694.000000\n",
      "mean      21.838823\n",
      "std        6.511731\n",
      "min        5.268320\n",
      "25%       17.218803\n",
      "50%       22.025217\n",
      "75%       26.907391\n",
      "max       36.919831\n",
      "Name: КПРФ%, dtype: float64\n"
     ]
    }
   ],
   "source": [
    "regs[\"ЕР%\"] = regs[\"ЕР\"] / regs[\"turnout\"] * 100\n",
    "regs[\"КПРФ%\"] = regs[\"КПРФ\"] / regs[\"turnout\"] * 100\n",
    "\n",
    "print(regs[\"ЕР%\"].describe()) # смотрим на min\n",
    "print(regs[\"КПРФ%\"].describe()) # смотрим на min"
   ]
  },
  {
   "cell_type": "markdown",
   "metadata": {},
   "source": [
    "### Задача 4\n",
    "\n",
    "* Постройте гистограммы для столбцов `ЕР%` и `КПРФ%`. Можно ли считать распределения симметричными?\n",
    "* Постройте ящики с усами для столбцов `ЕР%` и `КПРФ%`. Есть ли в областях районы с нетипичными значениями явки?"
   ]
  },
  {
   "cell_type": "code",
   "execution_count": 6,
   "metadata": {},
   "outputs": [
    {
     "data": {
      "image/png": "[encoded data removed]",
      "text/plain": [
       "<Figure size 432x288 with 1 Axes>"
      ]
     },
     "metadata": {
      "needs_background": "light"
     },
     "output_type": "display_data"
    }
   ],
   "source": [
    "# не симмметрично, скошено вправо\n",
    "regs[\"ЕР%\"].hist(color = \"navy\", edgecolor = \"white\");"
   ]
  },
  {
   "cell_type": "code",
   "execution_count": 8,
   "metadata": {},
   "outputs": [
    {
     "data": {
      "image/png": "[encoded data removed]",
      "text/plain": [
       "<Figure size 432x288 with 1 Axes>"
      ]
     },
     "metadata": {
      "needs_background": "light"
     },
     "output_type": "display_data"
    }
   ],
   "source": [
    "# не симмметрично, немного скошено влево\n",
    "regs[\"КПРФ%\"].hist(color = \"red\", edgecolor = \"white\");"
   ]
  },
  {
   "cell_type": "code",
   "execution_count": 9,
   "metadata": {},
   "outputs": [
    {
     "data": {
      "text/plain": [
       "<AxesSubplot:>"
      ]
     },
     "execution_count": 9,
     "metadata": {},
     "output_type": "execute_result"
    },
    {
     "data": {
      "image/png": "[encoded data removed]",
      "text/plain": [
       "<Figure size 432x288 with 1 Axes>"
      ]
     },
     "metadata": {
      "needs_background": "light"
     },
     "output_type": "display_data"
    }
   ],
   "source": [
    "# есть выбросы – нетипично высокие значения\n",
    "regs[\"ЕР%\"].plot.box();"
   ]
  },
  {
   "cell_type": "code",
   "execution_count": 12,
   "metadata": {},
   "outputs": [
    {
     "data": {
      "image/png": "[encoded data removed]",
      "text/plain": [
       "<Figure size 432x288 with 1 Axes>"
      ]
     },
     "metadata": {
      "needs_background": "light"
     },
     "output_type": "display_data"
    }
   ],
   "source": [
    "# нет выбросов\n",
    "regs[\"КПРФ%\"].plot.box();"
   ]
  },
  {
   "cell_type": "markdown",
   "metadata": {},
   "source": [
    "### Задача 5\n",
    "\n",
    "Вычислите количество ТИКов (ТИК – одна строка в датафрейме), где процент голосов за КПРФ не ниже, чем процент голосов за «Единую Россию»."
   ]
  },
  {
   "cell_type": "code",
   "execution_count": 13,
   "metadata": {},
   "outputs": [
    {
     "data": {
      "text/plain": [
       "91"
      ]
     },
     "execution_count": 13,
     "metadata": {},
     "output_type": "execute_result"
    }
   ],
   "source": [
    "# решение 1: отфильтровываем строки и считаем число строк через len()\n",
    "\n",
    "len(regs[regs[\"КПРФ%\"] >= regs[\"ЕР%\"]])"
   ]
  },
  {
   "cell_type": "code",
   "execution_count": 14,
   "metadata": {},
   "outputs": [
    {
     "data": {
      "text/plain": [
       "91"
      ]
     },
     "execution_count": 14,
     "metadata": {},
     "output_type": "execute_result"
    }
   ],
   "source": [
    "# решение 2: проверяем условие и считаем True через суммирование\n",
    "\n",
    "sum(regs[\"КПРФ%\"] >= regs[\"ЕР%\"])"
   ]
  },
  {
   "cell_type": "markdown",
   "metadata": {},
   "source": [
    "### Задача 6\n",
    "\n",
    "Выберите строки, соответствующие ТИКами, не относящимся к Москве, где процент голосов за КПРФ выше, чем за «Единую Россию»."
   ]
  },
  {
   "cell_type": "code",
   "execution_count": null,
   "metadata": {},
   "outputs": [],
   "source": [
    "### YOUR CODE HERE ###"
   ]
  },
  {
   "cell_type": "markdown",
   "metadata": {},
   "source": [
    "### Задача 7\n",
    "\n",
    "Сгруппируйте строки в `regs` по названию региона и выведите все описательные статистики для:\n",
    "\n",
    "* процента голосов за «Единую Россию»;\n",
    "* процента голосов за КПРФ."
   ]
  },
  {
   "cell_type": "code",
   "execution_count": null,
   "metadata": {},
   "outputs": [],
   "source": [
    "### YOUR CODE HERE ###"
   ]
  },
  {
   "cell_type": "markdown",
   "metadata": {},
   "source": [
    "### Задача 8\n",
    "\n",
    "Если вы верно выполнили задачу №7, то для каждой из двух партий получили датафрейм, где по строкам – названия регионов, а по столбцам – описательные статистики. \n",
    "\n",
    "Сохраните датафреймы в переменные и отсортируйте строки по среднему значению (столбец `mean`) в порядке убывания."
   ]
  },
  {
   "cell_type": "code",
   "execution_count": null,
   "metadata": {},
   "outputs": [],
   "source": [
    "### YOUR CODE HERE ###"
   ]
  }
 ],
 "metadata": {
  "kernelspec": {
   "display_name": "Python 3",
   "language": "python",
   "name": "python3"
  },
  "language_info": {
   "codemirror_mode": {
    "name": "ipython",
    "version": 3
   },
   "file_extension": ".py",
   "mimetype": "text/x-python",
   "name": "python",
   "nbconvert_exporter": "python",
   "pygments_lexer": "ipython3",
   "version": "3.7.4"
  }
 },
 "nbformat": 4,
 "nbformat_minor": 2
}
